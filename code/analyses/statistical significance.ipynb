{
 "cells": [
  {
   "cell_type": "code",
   "execution_count": 1,
   "metadata": {},
   "outputs": [],
   "source": [
    "import json\n",
    "import numpy as np\n",
    "from sklearn import metrics\n"
   ]
  },
  {
   "cell_type": "code",
   "execution_count": 2,
   "metadata": {},
   "outputs": [],
   "source": [
    "# adapted from: https://github.com/RobertInjac/Master-thesis/\n",
    "def bootstrap_significance_testing(y_true, y_predA, y_predB, metric, n=int(1e5)):\n",
    "    \"\"\"\n",
    "    Perform bootstrap significance testing.\n",
    "    \n",
    "    Null hypothesis is: A is no better than B on the population as a whole.\n",
    "    Alternative hypothesis: A is better than B on the population as a whole.\n",
    "    \n",
    "    The return value is the p-value for this test.\n",
    "    The bootstrap estimates the p-value though a combination of simulation and approximation.\n",
    "    \n",
    "    A small p-value indicates strong evidence against the null hypothesis.\n",
    "    In other words, it gives evidence that A is better than B.\n",
    "    \n",
    "    Explaination in detail (section 2.2. Boostrap):\n",
    "    Berg-Kirkpatrick, Taylor, David Burkett, and Dan Klein. \"An empirical investigation of statistical significance in nlp.\"\n",
    "    Proceedings of the 2012 Joint Conference on Empirical Methods in Natural Language Processing and Computational Natural Language Learning.\n",
    "    Association for Computational Linguistics, 2012.\n",
    "    \n",
    "    :param y_true: \n",
    "    :param y_predA: predictions of model A\n",
    "    :param y_predB: predictions of model B\n",
    "    :param metric: used metric, has to be a function of form f(y_true, y_pred)\n",
    "    :param n: integer; the number of times to perform bootstrap resampling\n",
    "    \"\"\"\n",
    "    v1 = metric(y_true, y_predA)\n",
    "    v2 = metric(y_true, y_predB)\n",
    "    d = (v1 - v2) * 2 # A has to beat B by at least 2* delta(x)\n",
    "    s = 0 # number of times A beats B\n",
    "    print('diff', d)\n",
    "    print('macro A', v1)\n",
    "    print('macro B', v2)\n",
    "    l = len(y_true)\n",
    "    for i in range(n):\n",
    "        idx = np.random.choice(l, l, replace=True) # sample indices with replacement\n",
    "        #print('iter', i)\n",
    "        v1i = metric(y_true[idx], y_predA[idx])\n",
    "        v2i = metric(y_true[idx], y_predB[idx])\n",
    "        di = v1i - v2i\n",
    "        if di > d:\n",
    "            s += 1\n",
    "    return s / n\n",
    "    "
   ]
  },
  {
   "cell_type": "code",
   "execution_count": 3,
   "metadata": {},
   "outputs": [],
   "source": [
    "def get_golds_preds(file_name, is_fine=True):\n",
    "    file_suffix = \"_test\"\n",
    "    file_suffix_fine = file_suffix + \"_fine\"\n",
    "    json_gold_pred = \"label_set_info (id/gold/pred)\"\n",
    "    json_gold_pred_fine = \"id_gold_pred_fine\"\n",
    "\n",
    "\n",
    "    n_folds = 4\n",
    "\n",
    "    json_files = []\n",
    "    for fold in range(n_folds):\n",
    "        if is_fine:\n",
    "            json_file = file_name + str(fold) + file_suffix_fine\n",
    "        else:\n",
    "            json_file = file_name + str(fold) + file_suffix\n",
    "        json_files.append(json_file)\n",
    "\n",
    "    if is_fine:\n",
    "        json_gold_pred = json_gold_pred_fine\n",
    "\n",
    "    id_golds_preds = []    \n",
    "    for json_file in json_files:\n",
    "        with open(json_file, 'r') as json_data:\n",
    "            id_golds_preds.extend(json.load(json_data)[json_gold_pred])\n",
    "\n",
    "    golds = []\n",
    "    preds = []\n",
    "    for _, gold, pred in id_golds_preds:\n",
    "        golds.append(gold)\n",
    "        preds.append(pred)\n",
    "\n",
    "    return np.array(golds), np.array(preds)"
   ]
  },
  {
   "cell_type": "code",
   "execution_count": 4,
   "metadata": {},
   "outputs": [],
   "source": [
    "metric = lambda predA, predB: metrics.f1_score(predA, predB, average='macro')"
   ]
  },
  {
   "cell_type": "code",
   "execution_count": 6,
   "metadata": {},
   "outputs": [],
   "source": [
    "base_r_file = \"/Users/elisa/Documents/CompLing/congressional_hearing/results/roberta_classification/roberta_test_context/1_input/metrics_roberta_classification_r_text_test.json_fold\"\n",
    "\n",
    "base_rq_file = \"/Users/elisa/Documents/CompLing/congressional_hearing/results/roberta_classification/roberta_test_context/2_input/metrics_roberta_classification_r_text_q_text_last_question_test.json_fold\"\n",
    "base_qr_file = \"/Users/elisa/Documents/CompLing/congressional_hearing/results/roberta_classification/roberta_test_context/2_input/metrics_roberta_classification_q_text_last_question_r_text_test.json_fold\"\n",
    "\n",
    "base_rs_file = \"/Users/elisa/Documents/CompLing/congressional_hearing/results/roberta_classification/roberta_test_context/2_input/metrics_roberta_classification_r_text_gold_sentiments_num_test.json_fold\"\n",
    "base_sr_file = \"/Users/elisa/Documents/CompLing/congressional_hearing/results/roberta_classification/roberta_test_context/2_input/metrics_roberta_classification_gold_sentiments_num_r_text_test.json_fold\"\n",
    "base_rc_file = \"/Users/elisa/Documents/CompLing/congressional_hearing/results/roberta_classification/roberta_test_context/2_input/metrics_roberta_classification_r_text_gold_sentiments_coarse_num_test.json_fold\"\n",
    "base_cr_file = \"/Users/elisa/Documents/CompLing/congressional_hearing/results/roberta_classification/roberta_test_context/2_input/metrics_roberta_classification_gold_sentiments_coarse_num_r_text_test.json_fold\"\n",
    "\n",
    "base_rsq_file = \"/Users/elisa/Documents/CompLing/congressional_hearing/results/roberta_classification/roberta_test_context/3_input/metrics_roberta_classification_r_text_gold_sentiments_num_q_text_last_question_test.json_fold\"\n",
    "base_rqs_file = \"/Users/elisa/Documents/CompLing/congressional_hearing/results/roberta_classification/roberta_test_context/3_input/metrics_roberta_classification_r_text_q_text_last_question_gold_sentiments_num_test.json_fold\"\n",
    "base_srq_file = \"/Users/elisa/Documents/CompLing/congressional_hearing/results/roberta_classification/roberta_test_context/3_input/metrics_roberta_classification_gold_sentiments_num_r_text_q_text_last_question_test.json_fold\"\n",
    "base_sqr_file = \"/Users/elisa/Documents/CompLing/congressional_hearing/results/roberta_classification/roberta_test_context/3_input/metrics_roberta_classification_gold_sentiments_num_q_text_last_question_r_text_test.json_fold\"\n",
    "base_qrs_file = \"/Users/elisa/Documents/CompLing/congressional_hearing/results/roberta_classification/roberta_test_context/3_input/metrics_roberta_classification_q_text_last_question_r_text_gold_sentiments_num_test.json_fold\"\n",
    "base_qsr_file = \"/Users/elisa/Documents/CompLing/congressional_hearing/results/roberta_classification/roberta_test_context/3_input/metrics_roberta_classification_q_text_last_question_gold_sentiments_num_r_text_test.json_fold\"\n",
    "\n",
    "base_rcq_file = \"/Users/elisa/Documents/CompLing/congressional_hearing/results/roberta_classification/roberta_test_context/3_input/metrics_roberta_classification_r_text_gold_sentiments_coarse_num_q_text_last_question_test.json_fold\"\n",
    "base_rqc_file = \"/Users/elisa/Documents/CompLing/congressional_hearing/results/roberta_classification/roberta_test_context/3_input/metrics_roberta_classification_r_text_q_text_last_question_gold_sentiments_coarse_num_test.json_fold\"\n",
    "base_crq_file = \"/Users/elisa/Documents/CompLing/congressional_hearing/results/roberta_classification/roberta_test_context/3_input/metrics_roberta_classification_gold_sentiments_coarse_num_r_text_q_text_last_question_test.json_fold\"\n",
    "base_cqr_file = \"/Users/elisa/Documents/CompLing/congressional_hearing/results/roberta_classification/roberta_test_context/3_input/metrics_roberta_classification_gold_sentiments_coarse_num_q_text_last_question_r_text_test.json_fold\"\n",
    "base_qrc_file = \"/Users/elisa/Documents/CompLing/congressional_hearing/results/roberta_classification/roberta_test_context/3_input/metrics_roberta_classification_q_text_last_question_r_text_gold_sentiments_coarse_num_test.json_fold\"\n",
    "base_qcr_file = \"/Users/elisa/Documents/CompLing/congressional_hearing/results/roberta_classification/roberta_test_context/3_input/metrics_roberta_classification_q_text_last_question_gold_sentiments_coarse_num_r_text_test.json_fold\"\n",
    "\n",
    "base_r_golds, base_r_preds = get_golds_preds(base_r_file, is_fine=False)\n",
    "\n",
    "base_rq_golds, base_rq_preds = get_golds_preds(base_rq_file, is_fine=False)\n",
    "base_qr_golds, base_qr_preds = get_golds_preds(base_qr_file, is_fine=False)\n",
    "\n",
    "base_rs_golds, base_rs_preds = get_golds_preds(base_rs_file, is_fine=False)\n",
    "base_sr_golds, base_sr_preds = get_golds_preds(base_sr_file, is_fine=False)\n",
    "base_rc_golds, base_rc_preds = get_golds_preds(base_rc_file, is_fine=False)\n",
    "base_cr_golds, base_cr_preds = get_golds_preds(base_cr_file, is_fine=False)\n",
    "\n",
    "base_rsq_golds, base_rsq_preds = get_golds_preds(base_rsq_file, is_fine=False)\n",
    "base_rqs_golds, base_rqs_preds = get_golds_preds(base_rqs_file, is_fine=False)\n",
    "base_srq_golds, base_srq_preds = get_golds_preds(base_srq_file, is_fine=False)\n",
    "base_sqr_golds, base_sqr_preds = get_golds_preds(base_sqr_file, is_fine=False)\n",
    "base_qrs_golds, base_qrs_preds = get_golds_preds(base_qrs_file, is_fine=False)\n",
    "base_qsr_golds, base_qsr_preds = get_golds_preds(base_qsr_file, is_fine=False)\n",
    "\n",
    "base_rcq_golds, base_rcq_preds = get_golds_preds(base_rcq_file, is_fine=False)\n",
    "base_rqc_golds, base_rqc_preds = get_golds_preds(base_rqc_file, is_fine=False)\n",
    "base_crq_golds, base_crq_preds = get_golds_preds(base_crq_file, is_fine=False)\n",
    "base_cqr_golds, base_cqr_preds = get_golds_preds(base_cqr_file, is_fine=False)\n",
    "base_qrc_golds, base_qrc_preds = get_golds_preds(base_qrc_file, is_fine=False)\n",
    "base_qcr_golds, base_qcr_preds = get_golds_preds(base_qcr_file, is_fine=False)\n",
    "\n",
    "majority_preds = np.array([[1]*len(base_r_golds[0])]*len(base_r_golds))"
   ]
  },
  {
   "cell_type": "markdown",
   "metadata": {},
   "source": [
    "### Sanity check w/ Majority"
   ]
  },
  {
   "cell_type": "code",
   "execution_count": 10,
   "metadata": {},
   "outputs": [
    {
     "name": "stdout",
     "output_type": "stream",
     "text": [
      "diff 0.3720433038331673\n",
      "macro A 0.5620672515120448\n",
      "macro B 0.3760455995954612\n",
      "Majority vs. Base: Estimated p-value:  0.0\n"
     ]
    }
   ],
   "source": [
    "p_value = bootstrap_significance_testing(base_r_golds, base_r_preds, majority_preds, metric, n=int(1e4))\n",
    "print(\"Majority vs. Base: Estimated p-value: \", p_value)"
   ]
  },
  {
   "cell_type": "markdown",
   "metadata": {},
   "source": [
    "### 2-inputs w/ Last Question"
   ]
  },
  {
   "cell_type": "code",
   "execution_count": 11,
   "metadata": {
    "scrolled": false
   },
   "outputs": [
    {
     "name": "stdout",
     "output_type": "stream",
     "text": [
      "diff 0.027176275497404756\n",
      "macro A 0.5756553892607472\n",
      "macro B 0.5620672515120448\n",
      "Base vs. +RQuestion: Estimated p-value:  0.1662\n"
     ]
    }
   ],
   "source": [
    "p_value = bootstrap_significance_testing(base_r_golds, base_rq_preds, base_r_preds, metric, n=int(1e4))\n",
    "print(\"Base vs. +RQuestion: Estimated p-value: \", p_value)"
   ]
  },
  {
   "cell_type": "code",
   "execution_count": 12,
   "metadata": {
    "scrolled": false
   },
   "outputs": [
    {
     "name": "stdout",
     "output_type": "stream",
     "text": [
      "diff 0.008013947620708839\n",
      "macro A 0.5660742253223993\n",
      "macro B 0.5620672515120448\n",
      "Base vs. +QuestionR: Estimated p-value:  0.3966\n"
     ]
    }
   ],
   "source": [
    "p_value = bootstrap_significance_testing(base_r_golds, base_qr_preds, base_r_preds, metric, n=int(1e4))\n",
    "print(\"Base vs. +QuestionR: Estimated p-value: \", p_value)"
   ]
  },
  {
   "cell_type": "markdown",
   "metadata": {},
   "source": [
    "### 2-inputs w/ Fine-grained sentiment"
   ]
  },
  {
   "cell_type": "code",
   "execution_count": 13,
   "metadata": {
    "scrolled": true
   },
   "outputs": [
    {
     "name": "stdout",
     "output_type": "stream",
     "text": [
      "diff -0.0014150345944847764\n",
      "macro A 0.5613597342148025\n",
      "macro B 0.5620672515120448\n",
      "Base vs. +RSent: Estimated p-value: 0.5175\n"
     ]
    }
   ],
   "source": [
    "p_value = bootstrap_significance_testing(base_r_golds, base_rs_preds, base_r_preds, metric, n=int(1e4))\n",
    "print(\"Base vs. +RSent: Estimated p-value: \" + str(p_value))"
   ]
  },
  {
   "cell_type": "code",
   "execution_count": 14,
   "metadata": {
    "scrolled": true
   },
   "outputs": [
    {
     "name": "stdout",
     "output_type": "stream",
     "text": [
      "diff 0.008006343256639736\n",
      "macro A 0.5660704231403647\n",
      "macro B 0.5620672515120448\n",
      "Base vs. +SentR: Estimated p-value: 0.3968\n"
     ]
    }
   ],
   "source": [
    "p_value = bootstrap_significance_testing(base_r_golds, base_sr_preds, base_r_preds, metric, n=int(1e4))\n",
    "print(\"Base vs. +SentR: Estimated p-value: \" + str(p_value))"
   ]
  },
  {
   "cell_type": "markdown",
   "metadata": {},
   "source": [
    "### 2-inputs w/ Coarse-grained sentiment"
   ]
  },
  {
   "cell_type": "code",
   "execution_count": 15,
   "metadata": {
    "scrolled": true
   },
   "outputs": [
    {
     "name": "stdout",
     "output_type": "stream",
     "text": [
      "diff 0.015872733947837503\n",
      "macro A 0.5700036184859636\n",
      "macro B 0.5620672515120448\n",
      "Base vs. +RC: Estimated p-value: 0.3051\n"
     ]
    }
   ],
   "source": [
    "p_value = bootstrap_significance_testing(base_r_golds, base_rc_preds, base_r_preds, metric, n=int(1e4))\n",
    "print(\"Base vs. +RC: Estimated p-value: \" + str(p_value))"
   ]
  },
  {
   "cell_type": "code",
   "execution_count": 16,
   "metadata": {
    "scrolled": false
   },
   "outputs": [
    {
     "name": "stdout",
     "output_type": "stream",
     "text": [
      "diff 0.031203433166767214\n",
      "macro A 0.5776689680954284\n",
      "macro B 0.5620672515120448\n",
      "Base vs. +CR: Estimated p-value: 0.1651\n"
     ]
    }
   ],
   "source": [
    "p_value = bootstrap_significance_testing(base_r_golds, base_cr_preds, base_r_preds, metric, n=int(1e4))\n",
    "print(\"Base vs. +CR: Estimated p-value: \" + str(p_value))"
   ]
  },
  {
   "cell_type": "markdown",
   "metadata": {},
   "source": [
    "### 3-inputs w/ Fine-grained sentiment "
   ]
  },
  {
   "cell_type": "code",
   "execution_count": 17,
   "metadata": {
    "scrolled": true
   },
   "outputs": [
    {
     "name": "stdout",
     "output_type": "stream",
     "text": [
      "diff 0.029802939851991894\n",
      "macro A 0.5769687214380408\n",
      "macro B 0.5620672515120448\n",
      "Base vs. +RSQ: Estimated p-value: 0.1961\n"
     ]
    }
   ],
   "source": [
    "p_value = bootstrap_significance_testing(base_r_golds, base_rsq_preds, base_r_preds, metric, n=int(1e4))\n",
    "print(\"Base vs. +RSQ: Estimated p-value: \" + str(p_value))"
   ]
  },
  {
   "cell_type": "code",
   "execution_count": 18,
   "metadata": {},
   "outputs": [
    {
     "name": "stdout",
     "output_type": "stream",
     "text": [
      "diff 0.01709260926989331\n",
      "macro A 0.5706135561469915\n",
      "macro B 0.5620672515120448\n",
      "Base vs. +RQS: Estimated p-value: 0.3232\n"
     ]
    }
   ],
   "source": [
    "p_value = bootstrap_significance_testing(base_r_golds, base_rqs_preds, base_r_preds, metric, n=int(1e4))\n",
    "print(\"Base vs. +RQS: Estimated p-value: \" + str(p_value))"
   ]
  },
  {
   "cell_type": "code",
   "execution_count": 19,
   "metadata": {},
   "outputs": [
    {
     "name": "stdout",
     "output_type": "stream",
     "text": [
      "diff 0.01812868971198478\n",
      "macro A 0.5711315963680372\n",
      "macro B 0.5620672515120448\n",
      "Base vs. +SRQ: Estimated p-value: 0.3017\n"
     ]
    }
   ],
   "source": [
    "p_value = bootstrap_significance_testing(base_r_golds, base_srq_preds, base_r_preds, metric, n=int(1e4))\n",
    "print(\"Base vs. +SRQ: Estimated p-value: \" + str(p_value))"
   ]
  },
  {
   "cell_type": "code",
   "execution_count": 20,
   "metadata": {
    "scrolled": true
   },
   "outputs": [
    {
     "name": "stdout",
     "output_type": "stream",
     "text": [
      "diff 0.02407802536103043\n",
      "macro A 0.5741062641925601\n",
      "macro B 0.5620672515120448\n",
      "Base vs. +SQR: Estimated p-value: 0.2229\n"
     ]
    }
   ],
   "source": [
    "p_value = bootstrap_significance_testing(base_r_golds, base_sqr_preds, base_r_preds, metric, n=int(1e4))\n",
    "print(\"Base vs. +SQR: Estimated p-value: \" + str(p_value))"
   ]
  },
  {
   "cell_type": "code",
   "execution_count": 21,
   "metadata": {
    "scrolled": true
   },
   "outputs": [
    {
     "name": "stdout",
     "output_type": "stream",
     "text": [
      "diff 0.05426686228918709\n",
      "macro A 0.5892006826566384\n",
      "macro B 0.5620672515120448\n",
      "Base vs. +QRS: Estimated p-value: 0.0467\n"
     ]
    }
   ],
   "source": [
    "p_value = bootstrap_significance_testing(base_r_golds, base_qrs_preds, base_r_preds, metric, n=int(1e4))\n",
    "print(\"Base vs. +QRS: Estimated p-value: \" + str(p_value))"
   ]
  },
  {
   "cell_type": "code",
   "execution_count": 22,
   "metadata": {
    "scrolled": true
   },
   "outputs": [
    {
     "name": "stdout",
     "output_type": "stream",
     "text": [
      "diff 0.08308571333692494\n",
      "macro A 0.6036101081805073\n",
      "macro B 0.5620672515120448\n",
      "Base vs. +QSR: Estimated p-value: 0.0093\n"
     ]
    }
   ],
   "source": [
    "p_value = bootstrap_significance_testing(base_r_golds, base_qsr_preds, base_r_preds, metric, n=int(1e4))\n",
    "print(\"Base vs. +QSR: Estimated p-value: \" + str(p_value))"
   ]
  },
  {
   "cell_type": "markdown",
   "metadata": {},
   "source": [
    "### 3 inputs w/ Coarse-grained sentiment"
   ]
  },
  {
   "cell_type": "code",
   "execution_count": 24,
   "metadata": {
    "scrolled": false
   },
   "outputs": [
    {
     "name": "stdout",
     "output_type": "stream",
     "text": [
      "diff 0.06128379538801787\n",
      "macro A 0.5927091492060538\n",
      "macro B 0.5620672515120448\n",
      "Base vs. +RCQ: Estimated p-value: 0.044\n"
     ]
    }
   ],
   "source": [
    "p_value = bootstrap_significance_testing(base_r_golds, base_rcq_preds, base_r_preds, metric, n=int(1e4))\n",
    "print(\"Base vs. +RCQ: Estimated p-value: \" + str(p_value))"
   ]
  },
  {
   "cell_type": "code",
   "execution_count": 25,
   "metadata": {},
   "outputs": [
    {
     "name": "stdout",
     "output_type": "stream",
     "text": [
      "diff 0.0022255134797510845\n",
      "macro A 0.5631800082519204\n",
      "macro B 0.5620672515120448\n",
      "Base vs. +RQC: Estimated p-value: 0.478\n"
     ]
    }
   ],
   "source": [
    "p_value = bootstrap_significance_testing(base_r_golds, base_rqc_preds, base_r_preds, metric, n=int(1e4))\n",
    "print(\"Base vs. +RQC: Estimated p-value: \" + str(p_value))"
   ]
  },
  {
   "cell_type": "code",
   "execution_count": 26,
   "metadata": {},
   "outputs": [
    {
     "name": "stdout",
     "output_type": "stream",
     "text": [
      "diff 0.041623542120078794\n",
      "macro A 0.5828790225720842\n",
      "macro B 0.5620672515120448\n",
      "Base vs. +CRQ: Estimated p-value: 0.107\n"
     ]
    }
   ],
   "source": [
    "p_value = bootstrap_significance_testing(base_r_golds, base_crq_preds, base_r_preds, metric, n=int(1e4))\n",
    "print(\"Base vs. +CRQ: Estimated p-value: \" + str(p_value))"
   ]
  },
  {
   "cell_type": "code",
   "execution_count": 27,
   "metadata": {},
   "outputs": [
    {
     "name": "stdout",
     "output_type": "stream",
     "text": [
      "diff 0.02952227308508326\n",
      "macro A 0.5768283880545865\n",
      "macro B 0.5620672515120448\n",
      "Base vs. +CQR: Estimated p-value: 0.1728\n"
     ]
    }
   ],
   "source": [
    "p_value = bootstrap_significance_testing(base_r_golds, base_cqr_preds, base_r_preds, metric, n=int(1e4))\n",
    "print(\"Base vs. +CQR: Estimated p-value: \" + str(p_value))"
   ]
  },
  {
   "cell_type": "code",
   "execution_count": 28,
   "metadata": {},
   "outputs": [
    {
     "name": "stdout",
     "output_type": "stream",
     "text": [
      "diff -0.0014526508637502378\n",
      "macro A 0.5613409260801697\n",
      "macro B 0.5620672515120448\n",
      "Base vs. +QRC: Estimated p-value: 0.5121\n"
     ]
    }
   ],
   "source": [
    "p_value = bootstrap_significance_testing(base_r_golds, base_qrc_preds, base_r_preds, metric, n=int(1e4))\n",
    "print(\"Base vs. +QRC: Estimated p-value: \" + str(p_value))"
   ]
  },
  {
   "cell_type": "code",
   "execution_count": 29,
   "metadata": {
    "scrolled": false
   },
   "outputs": [
    {
     "name": "stdout",
     "output_type": "stream",
     "text": [
      "diff -0.008625056380368923\n",
      "macro A 0.5577547233218604\n",
      "macro B 0.5620672515120448\n",
      "Base vs. +QCR: Estimated p-value: 0.6063\n"
     ]
    }
   ],
   "source": [
    "p_value = bootstrap_significance_testing(base_r_golds, base_qcr_preds, base_r_preds, metric, n=int(1e4))\n",
    "print(\"Base vs. +QCR: Estimated p-value: \" + str(p_value))"
   ]
  },
  {
   "cell_type": "markdown",
   "metadata": {},
   "source": [
    "## Hierarchical"
   ]
  },
  {
   "cell_type": "code",
   "execution_count": 30,
   "metadata": {},
   "outputs": [],
   "source": [
    "hier_r_file = \"/Users/elisa/Documents/CompLing/congressional_hearing/results/roberta_classification/roberta_test_hier/1_input/metrics_roberta_hierarchical_r_text_test.json_fold\"\n",
    "\n",
    "hier_rq_file = \"/Users/elisa/Documents/CompLing/congressional_hearing/results/roberta_classification/roberta_test_hier/2_input/metrics_roberta_hierarchical_r_text_q_text_last_question_test.json_fold\"\n",
    "hier_qr_file = \"/Users/elisa/Documents/CompLing/congressional_hearing/results/roberta_classification/roberta_test_hier/2_input/metrics_roberta_hierarchical_q_text_last_question_r_text_test.json_fold\"\n",
    "\n",
    "hier_rs_file = \"/Users/elisa/Documents/CompLing/congressional_hearing/results/roberta_classification/roberta_test_hier/2_input/metrics_roberta_hierarchical_r_text_gold_sentiments_num_test.json_fold\"\n",
    "hier_sr_file = \"/Users/elisa/Documents/CompLing/congressional_hearing/results/roberta_classification/roberta_test_hier/2_input/metrics_roberta_hierarchical_gold_sentiments_num_r_text_test.json_fold\"\n",
    "hier_rc_file = \"/Users/elisa/Documents/CompLing/congressional_hearing/results/roberta_classification/roberta_test_hier/2_input/metrics_roberta_hierarchical_r_text_gold_sentiments_coarse_num_test.json_fold\"\n",
    "hier_cr_file = \"/Users/elisa/Documents/CompLing/congressional_hearing/results/roberta_classification/roberta_test_hier/2_input/metrics_roberta_hierarchical_gold_sentiments_coarse_num_r_text_test.json_fold\"\n",
    "\n",
    "hier_nr_file = \"/Users/elisa/Documents/CompLing/congressional_hearing/results/roberta_classification/roberta_test_hier/2_input/metrics_roberta_hierarchical_q_speaker_r_text_test.json_fold\"\n",
    "hier_lr_file = \"/Users/elisa/Documents/CompLing/congressional_hearing/results/roberta_classification/roberta_test_hier/2_input/metrics_roberta_hierarchical_q_speaker_role_r_text_test.json_fold\"\n",
    "\n",
    "\n",
    "hier_rsq_file = \"/Users/elisa/Documents/CompLing/congressional_hearing/results/roberta_classification/roberta_test_hier/3_input/metrics_roberta_hierarchical_r_text_gold_sentiments_num_q_text_last_question_test.json_fold\"\n",
    "hier_rqs_file = \"/Users/elisa/Documents/CompLing/congressional_hearing/results/roberta_classification/roberta_test_hier/3_input/metrics_roberta_hierarchical_r_text_q_text_last_question_gold_sentiments_num_test.json_fold\"\n",
    "hier_srq_file = \"/Users/elisa/Documents/CompLing/congressional_hearing/results/roberta_classification/roberta_test_hier/3_input/metrics_roberta_hierarchical_gold_sentiments_num_r_text_q_text_last_question_test.json_fold\"\n",
    "hier_sqr_file = \"/Users/elisa/Documents/CompLing/congressional_hearing/results/roberta_classification/roberta_test_hier/3_input/metrics_roberta_hierarchical_gold_sentiments_num_q_text_last_question_r_text_test.json_fold\"\n",
    "hier_qrs_file = \"/Users/elisa/Documents/CompLing/congressional_hearing/results/roberta_classification/roberta_test_hier/3_input/metrics_roberta_hierarchical_q_text_last_question_r_text_gold_sentiments_num_test.json_fold\"\n",
    "hier_qsr_file = \"/Users/elisa/Documents/CompLing/congressional_hearing/results/roberta_classification/roberta_test_hier/3_input/metrics_roberta_hierarchical_q_text_last_question_gold_sentiments_num_r_text_test.json_fold\"\n",
    "\n",
    "hier_rcq_file = \"/Users/elisa/Documents/CompLing/congressional_hearing/results/roberta_classification/roberta_test_hier/3_input/metrics_roberta_hierarchical_r_text_gold_sentiments_coarse_num_q_text_last_question_test.json_fold\"\n",
    "hier_rqc_file = \"/Users/elisa/Documents/CompLing/congressional_hearing/results/roberta_classification/roberta_test_hier/3_input/metrics_roberta_hierarchical_r_text_q_text_last_question_gold_sentiments_coarse_num_test.json_fold\"\n",
    "hier_crq_file = \"/Users/elisa/Documents/CompLing/congressional_hearing/results/roberta_classification/roberta_test_hier/3_input/metrics_roberta_hierarchical_gold_sentiments_coarse_num_r_text_q_text_last_question_test.json_fold\"\n",
    "hier_cqr_file = \"/Users/elisa/Documents/CompLing/congressional_hearing/results/roberta_classification/roberta_test_hier/3_input/metrics_roberta_hierarchical_gold_sentiments_coarse_num_q_text_last_question_r_text_test.json_fold\"\n",
    "hier_qrc_file = \"/Users/elisa/Documents/CompLing/congressional_hearing/results/roberta_classification/roberta_test_hier/3_input/metrics_roberta_hierarchical_q_text_last_question_r_text_gold_sentiments_coarse_num_test.json_fold\"\n",
    "hier_qcr_file = \"/Users/elisa/Documents/CompLing/congressional_hearing/results/roberta_classification/roberta_test_hier/3_input/metrics_roberta_hierarchical_q_text_last_question_gold_sentiments_coarse_num_r_text_test.json_fold\"\n",
    "\n",
    "\n",
    "hier_r_golds, hier_r_preds = get_golds_preds(hier_r_file, is_fine=True)\n",
    "\n",
    "hier_rq_golds, hier_rq_preds = get_golds_preds(hier_rq_file, is_fine=True)\n",
    "hier_qr_golds, hier_qr_preds = get_golds_preds(hier_qr_file, is_fine=True)\n",
    "\n",
    "hier_rs_golds, hier_rs_preds = get_golds_preds(hier_rs_file, is_fine=True)\n",
    "hier_sr_golds, hier_sr_preds = get_golds_preds(hier_sr_file, is_fine=True)\n",
    "hier_rc_golds, hier_rc_preds = get_golds_preds(hier_rc_file, is_fine=True)\n",
    "hier_cr_golds, hier_cr_preds = get_golds_preds(hier_cr_file, is_fine=True)\n",
    "\n",
    "hier_rsq_golds, hier_rsq_preds = get_golds_preds(hier_rsq_file, is_fine=True)\n",
    "hier_rqs_golds, hier_rqs_preds = get_golds_preds(hier_rqs_file, is_fine=True)\n",
    "hier_srq_golds, hier_srq_preds = get_golds_preds(hier_srq_file, is_fine=True)\n",
    "hier_sqr_golds, hier_sqr_preds = get_golds_preds(hier_sqr_file, is_fine=True)\n",
    "hier_qrs_golds, hier_qrs_preds = get_golds_preds(hier_qrs_file, is_fine=True)\n",
    "hier_qsr_golds, hier_qsr_preds = get_golds_preds(hier_qsr_file, is_fine=True)\n",
    "\n",
    "hier_rcq_golds, hier_rcq_preds = get_golds_preds(hier_rcq_file, is_fine=True)\n",
    "hier_rqc_golds, hier_rqc_preds = get_golds_preds(hier_rqc_file, is_fine=True)\n",
    "hier_crq_golds, hier_crq_preds = get_golds_preds(hier_crq_file, is_fine=True)\n",
    "hier_cqr_golds, hier_cqr_preds = get_golds_preds(hier_cqr_file, is_fine=True)\n",
    "hier_qrc_golds, hier_qrc_preds = get_golds_preds(hier_qrc_file, is_fine=True)\n",
    "hier_qcr_golds, hier_qcr_preds = get_golds_preds(hier_qcr_file, is_fine=True)"
   ]
  },
  {
   "cell_type": "code",
   "execution_count": 32,
   "metadata": {
    "scrolled": false
   },
   "outputs": [
    {
     "name": "stdout",
     "output_type": "stream",
     "text": [
      "diff 0.015253227607384456\n",
      "macro A 0.5696938653157371\n",
      "macro B 0.5620672515120448\n",
      "Base vs. Hier: Estimated p-value: 0.3091\n"
     ]
    }
   ],
   "source": [
    "p_value = bootstrap_significance_testing(hier_r_golds, hier_r_preds, base_r_preds, metric, n=int(1e4))\n",
    "print(\"Base vs. Hier: Estimated p-value: \" + str(p_value))"
   ]
  },
  {
   "cell_type": "markdown",
   "metadata": {},
   "source": [
    "### 2-inputs w/ Last Question"
   ]
  },
  {
   "cell_type": "code",
   "execution_count": 50,
   "metadata": {
    "scrolled": true
   },
   "outputs": [
    {
     "name": "stdout",
     "output_type": "stream",
     "text": [
      "diff -0.03959201116125333\n",
      "macro A 0.5498978597351104\n",
      "macro B 0.5696938653157371\n",
      "Hier vs. +RQuestion: Estimated p-value:  0.8814\n"
     ]
    }
   ],
   "source": [
    "p_value = bootstrap_significance_testing(hier_r_golds, hier_rq_preds, hier_r_preds, metric, n=int(1e4))\n",
    "print(\"Hier vs. +RQuestion: Estimated p-value: \", p_value)"
   ]
  },
  {
   "cell_type": "code",
   "execution_count": 51,
   "metadata": {
    "scrolled": false
   },
   "outputs": [
    {
     "name": "stdout",
     "output_type": "stream",
     "text": [
      "diff 0.03726209233119726\n",
      "macro A 0.5883249114813357\n",
      "macro B 0.5696938653157371\n",
      "Hier vs. +QuestionR: Estimated p-value:  0.1204\n"
     ]
    }
   ],
   "source": [
    "p_value = bootstrap_significance_testing(hier_r_golds, hier_qr_preds, hier_r_preds, metric, n=int(1e4))\n",
    "print(\"Hier vs. +QuestionR: Estimated p-value: \", p_value)"
   ]
  },
  {
   "cell_type": "markdown",
   "metadata": {},
   "source": [
    "### 2-inputs w/ Questioner"
   ]
  },
  {
   "cell_type": "code",
   "execution_count": 50,
   "metadata": {
    "scrolled": true
   },
   "outputs": [
    {
     "name": "stdout",
     "output_type": "stream",
     "text": [
      "diff -0.03959201116125333\n",
      "macro A 0.5498978597351104\n",
      "macro B 0.5696938653157371\n",
      "Hier vs. +RQuestion: Estimated p-value:  0.8814\n"
     ]
    }
   ],
   "source": [
    "p_value = bootstrap_significance_testing(hier_r_golds, hier_nr_preds, hier_r_preds, metric, n=int(1e4))\n",
    "print(\"Hier vs. +QuestionerR: Estimated p-value: \", p_value)"
   ]
  },
  {
   "cell_type": "markdown",
   "metadata": {},
   "source": [
    "### 2-inputs w/ Fine-grained sentiment"
   ]
  },
  {
   "cell_type": "code",
   "execution_count": 33,
   "metadata": {
    "scrolled": false
   },
   "outputs": [
    {
     "name": "stdout",
     "output_type": "stream",
     "text": [
      "diff 0.023072767599450872\n",
      "macro A 0.5812302491154625\n",
      "macro B 0.5696938653157371\n",
      "Hier vs. +RSent: Estimated p-value: 0.2143\n"
     ]
    }
   ],
   "source": [
    "p_value = bootstrap_significance_testing(hier_r_golds, hier_rs_preds, hier_r_preds, metric, n=int(1e4))\n",
    "print(\"Hier vs. +RSent: Estimated p-value: \" + str(p_value))"
   ]
  },
  {
   "cell_type": "code",
   "execution_count": 34,
   "metadata": {
    "scrolled": false
   },
   "outputs": [
    {
     "name": "stdout",
     "output_type": "stream",
     "text": [
      "diff 0.00959648331317875\n",
      "macro A 0.5744921069723264\n",
      "macro B 0.5696938653157371\n",
      "Hier vs. +SentR: Estimated p-value: 0.3721\n"
     ]
    }
   ],
   "source": [
    "p_value = bootstrap_significance_testing(hier_r_golds, hier_sr_preds, hier_r_preds, metric, n=int(1e4))\n",
    "print(\"Hier vs. +SentR: Estimated p-value: \" + str(p_value))"
   ]
  },
  {
   "cell_type": "markdown",
   "metadata": {},
   "source": [
    "### 2-inputs w/ Coarse-grained sentiment"
   ]
  },
  {
   "cell_type": "code",
   "execution_count": 36,
   "metadata": {
    "scrolled": false
   },
   "outputs": [
    {
     "name": "stdout",
     "output_type": "stream",
     "text": [
      "diff 0.03376292685933868\n",
      "macro A 0.5865753287454064\n",
      "macro B 0.5696938653157371\n",
      "Hier vs. +RC: Estimated p-value: 0.1286\n"
     ]
    }
   ],
   "source": [
    "p_value = bootstrap_significance_testing(hier_r_golds, hier_rc_preds, hier_r_preds, metric, n=int(1e4))\n",
    "print(\"Hier vs. +RC: Estimated p-value: \" + str(p_value))"
   ]
  },
  {
   "cell_type": "code",
   "execution_count": 61,
   "metadata": {
    "scrolled": false
   },
   "outputs": [
    {
     "name": "stdout",
     "output_type": "stream",
     "text": [
      "diff 0.046093668920515585\n",
      "macro A 0.5927406997759949\n",
      "macro B 0.5696938653157371\n",
      "Hier vs. +CR: Estimated p-value: 0.058264\n"
     ]
    }
   ],
   "source": [
    "p_value = bootstrap_significance_testing(hier_r_golds, hier_cr_preds, hier_r_preds, metric, n=int(1e4))\n",
    "print(\"Hier vs. +CR: Estimated p-value: \" + str(p_value))"
   ]
  },
  {
   "cell_type": "markdown",
   "metadata": {},
   "source": [
    "### 2-inputs w/ Last Question compared to base"
   ]
  },
  {
   "cell_type": "code",
   "execution_count": 53,
   "metadata": {
    "scrolled": true
   },
   "outputs": [
    {
     "name": "stdout",
     "output_type": "stream",
     "text": [
      "diff -0.02433878355386887\n",
      "macro A 0.5498978597351104\n",
      "macro B 0.5620672515120448\n",
      "Base vs. Hier +RQuestion: Estimated p-value:  0.7765\n"
     ]
    }
   ],
   "source": [
    "p_value = bootstrap_significance_testing(hier_r_golds, hier_rq_preds, base_r_preds, metric, n=int(1e4))\n",
    "print(\"Base vs. Hier +RQuestion: Estimated p-value: \", p_value)"
   ]
  },
  {
   "cell_type": "code",
   "execution_count": 54,
   "metadata": {
    "scrolled": false
   },
   "outputs": [
    {
     "name": "stdout",
     "output_type": "stream",
     "text": [
      "diff 0.03726209233119726\n",
      "macro A 0.5883249114813357\n",
      "macro B 0.5696938653157371\n",
      "Base vs. Hier +QuestionR: Estimated p-value:  0.1157\n"
     ]
    }
   ],
   "source": [
    "p_value = bootstrap_significance_testing(base_r_golds, hier_qr_preds, hier_r_preds, metric, n=int(1e4))\n",
    "print(\"Base vs. Hier +QuestionR: Estimated p-value: \", p_value)"
   ]
  },
  {
   "cell_type": "markdown",
   "metadata": {},
   "source": [
    "### 2-inputs w/ Fine-grained sentiment compared to base"
   ]
  },
  {
   "cell_type": "code",
   "execution_count": 55,
   "metadata": {
    "scrolled": false
   },
   "outputs": [
    {
     "name": "stdout",
     "output_type": "stream",
     "text": [
      "diff 0.023072767599450872\n",
      "macro A 0.5812302491154625\n",
      "macro B 0.5696938653157371\n",
      "Base vs. Hier +RSent: Estimated p-value: 0.2091\n"
     ]
    }
   ],
   "source": [
    "p_value = bootstrap_significance_testing(base_r_golds, hier_rs_preds, hier_r_preds, metric, n=int(1e4))\n",
    "print(\"Base vs. Hier +RSent: Estimated p-value: \" + str(p_value))"
   ]
  },
  {
   "cell_type": "code",
   "execution_count": 57,
   "metadata": {
    "scrolled": false
   },
   "outputs": [
    {
     "name": "stdout",
     "output_type": "stream",
     "text": [
      "diff 0.00959648331317875\n",
      "macro A 0.5744921069723264\n",
      "macro B 0.5696938653157371\n",
      "Base vs. Hier +SentR: Estimated p-value: 0.3879\n"
     ]
    }
   ],
   "source": [
    "p_value = bootstrap_significance_testing(base_r_golds, hier_sr_preds, hier_r_preds, metric, n=int(1e4))\n",
    "print(\"Base vs. Hier +SentR: Estimated p-value: \" + str(p_value))"
   ]
  },
  {
   "cell_type": "markdown",
   "metadata": {},
   "source": [
    "### 2-inputs w/ Coarse-grained sentiment compared to base"
   ]
  },
  {
   "cell_type": "code",
   "execution_count": 58,
   "metadata": {
    "scrolled": false
   },
   "outputs": [
    {
     "name": "stdout",
     "output_type": "stream",
     "text": [
      "diff 0.03376292685933868\n",
      "macro A 0.5865753287454064\n",
      "macro B 0.5696938653157371\n",
      "Base vs. Hier +RC: Estimated p-value: 0.127\n"
     ]
    }
   ],
   "source": [
    "p_value = bootstrap_significance_testing(base_r_golds, hier_rc_preds, hier_r_preds, metric, n=int(1e4))\n",
    "print(\"Base vs. Hier +RC: Estimated p-value: \" + str(p_value))"
   ]
  },
  {
   "cell_type": "code",
   "execution_count": 59,
   "metadata": {
    "scrolled": true
   },
   "outputs": [
    {
     "name": "stdout",
     "output_type": "stream",
     "text": [
      "diff 0.046093668920515585\n",
      "macro A 0.5927406997759949\n",
      "macro B 0.5696938653157371\n",
      "Base vs. Hier +CR: Estimated p-value: 0.0593\n"
     ]
    }
   ],
   "source": [
    "p_value = bootstrap_significance_testing(base_r_golds, hier_cr_preds, hier_r_preds, metric, n=int(1e4))\n",
    "print(\"Base vs. Hier +CR: Estimated p-value: \" + str(p_value))"
   ]
  },
  {
   "cell_type": "markdown",
   "metadata": {},
   "source": [
    "### 3-inputs w/ Fine-grained sentiment"
   ]
  },
  {
   "cell_type": "code",
   "execution_count": 38,
   "metadata": {
    "scrolled": true
   },
   "outputs": [
    {
     "name": "stdout",
     "output_type": "stream",
     "text": [
      "diff 0.08009207685397124\n",
      "macro A 0.6097399037427227\n",
      "macro B 0.5696938653157371\n",
      "Hier vs. +RSQ: Estimated p-value: 0.008\n"
     ]
    }
   ],
   "source": [
    "p_value = bootstrap_significance_testing(hier_r_golds, hier_rsq_preds, hier_r_preds, metric, n=int(1e4))\n",
    "print(\"Hier vs. +RSQ: Estimated p-value: \" + str(p_value))"
   ]
  },
  {
   "cell_type": "code",
   "execution_count": 39,
   "metadata": {},
   "outputs": [
    {
     "name": "stdout",
     "output_type": "stream",
     "text": [
      "diff 0.02067881697938967\n",
      "macro A 0.5800332738054319\n",
      "macro B 0.5696938653157371\n",
      "Hier vs. +RQS: Estimated p-value: 0.2636\n"
     ]
    }
   ],
   "source": [
    "p_value = bootstrap_significance_testing(hier_r_golds, hier_rqs_preds, hier_r_preds, metric, n=int(1e4))\n",
    "print(\"Hier vs. +RQS: Estimated p-value: \" + str(p_value))"
   ]
  },
  {
   "cell_type": "code",
   "execution_count": 40,
   "metadata": {},
   "outputs": [
    {
     "name": "stdout",
     "output_type": "stream",
     "text": [
      "diff 0.042376207124506404\n",
      "macro A 0.5908819688779903\n",
      "macro B 0.5696938653157371\n",
      "Hier vs. +SRQ: Estimated p-value: 0.0802\n"
     ]
    }
   ],
   "source": [
    "p_value = bootstrap_significance_testing(hier_r_golds, hier_srq_preds, hier_r_preds, metric, n=int(1e4))\n",
    "print(\"Hier vs. +SRQ: Estimated p-value: \" + str(p_value))"
   ]
  },
  {
   "cell_type": "code",
   "execution_count": 41,
   "metadata": {},
   "outputs": [
    {
     "name": "stdout",
     "output_type": "stream",
     "text": [
      "diff 0.03128913845335157\n",
      "macro A 0.5853384345424129\n",
      "macro B 0.5696938653157371\n",
      "Hier vs. +SQR: Estimated p-value: 0.1644\n"
     ]
    }
   ],
   "source": [
    "p_value = bootstrap_significance_testing(hier_r_golds, hier_sqr_preds, hier_r_preds, metric, n=int(1e4))\n",
    "print(\"Hier vs. +SQR: Estimated p-value: \" + str(p_value))"
   ]
  },
  {
   "cell_type": "code",
   "execution_count": 42,
   "metadata": {
    "scrolled": true
   },
   "outputs": [
    {
     "name": "stdout",
     "output_type": "stream",
     "text": [
      "diff 0.029375152728924547\n",
      "macro A 0.5843814416801993\n",
      "macro B 0.5696938653157371\n",
      "Hier vs. +QRS: Estimated p-value: 0.1804\n"
     ]
    }
   ],
   "source": [
    "p_value = bootstrap_significance_testing(hier_r_golds, hier_qrs_preds, hier_r_preds, metric, n=int(1e4))\n",
    "print(\"Hier vs. +QRS: Estimated p-value: \" + str(p_value))"
   ]
  },
  {
   "cell_type": "code",
   "execution_count": 43,
   "metadata": {
    "scrolled": true
   },
   "outputs": [
    {
     "name": "stdout",
     "output_type": "stream",
     "text": [
      "diff 0.07143120724728891\n",
      "macro A 0.6054094689393815\n",
      "macro B 0.5696938653157371\n",
      "Hier vs. +QSR: Estimated p-value: 0.0074\n"
     ]
    }
   ],
   "source": [
    "p_value = bootstrap_significance_testing(hier_r_golds, hier_qsr_preds, hier_r_preds, metric, n=int(1e4))\n",
    "print(\"Hier vs. +QSR: Estimated p-value: \" + str(p_value))"
   ]
  },
  {
   "cell_type": "markdown",
   "metadata": {},
   "source": [
    "### 3 inputs w/ Coarse-grained sentiment"
   ]
  },
  {
   "cell_type": "code",
   "execution_count": 44,
   "metadata": {
    "scrolled": false
   },
   "outputs": [
    {
     "name": "stdout",
     "output_type": "stream",
     "text": [
      "diff 0.06825419368626351\n",
      "macro A 0.6038209621588688\n",
      "macro B 0.5696938653157371\n",
      "Hier vs. +RCQ: Estimated p-value: 0.0145\n"
     ]
    }
   ],
   "source": [
    "p_value = bootstrap_significance_testing(hier_r_golds, hier_rcq_preds, hier_r_preds, metric, n=int(1e4))\n",
    "print(\"Hier vs. +RCQ: Estimated p-value: \" + str(p_value))"
   ]
  },
  {
   "cell_type": "code",
   "execution_count": 45,
   "metadata": {},
   "outputs": [
    {
     "name": "stdout",
     "output_type": "stream",
     "text": [
      "diff 0.01568101391975607\n",
      "macro A 0.5775343722756151\n",
      "macro B 0.5696938653157371\n",
      "Hier vs. +RQC: Estimated p-value: 0.3166\n"
     ]
    }
   ],
   "source": [
    "p_value = bootstrap_significance_testing(hier_r_golds, hier_rqc_preds, hier_r_preds, metric, n=int(1e4))\n",
    "print(\"Hier vs. +RQC: Estimated p-value: \" + str(p_value))"
   ]
  },
  {
   "cell_type": "code",
   "execution_count": 46,
   "metadata": {},
   "outputs": [
    {
     "name": "stdout",
     "output_type": "stream",
     "text": [
      "diff 0.038920157960475876\n",
      "macro A 0.589153944295975\n",
      "macro B 0.5696938653157371\n",
      "Hier vs. +CRQ: Estimated p-value: 0.0916\n"
     ]
    }
   ],
   "source": [
    "p_value = bootstrap_significance_testing(hier_r_golds, hier_crq_preds, hier_r_preds, metric, n=int(1e4))\n",
    "print(\"Hier vs. +CRQ: Estimated p-value: \" + str(p_value))"
   ]
  },
  {
   "cell_type": "code",
   "execution_count": 47,
   "metadata": {},
   "outputs": [
    {
     "name": "stdout",
     "output_type": "stream",
     "text": [
      "diff 0.009179190098600243\n",
      "macro A 0.5742834603650372\n",
      "macro B 0.5696938653157371\n",
      "Hier vs. +CQR: Estimated p-value: 0.3862\n"
     ]
    }
   ],
   "source": [
    "p_value = bootstrap_significance_testing(hier_r_golds, hier_cqr_preds, hier_r_preds, metric, n=int(1e4))\n",
    "print(\"Hier vs. +CQR: Estimated p-value: \" + str(p_value))"
   ]
  },
  {
   "cell_type": "code",
   "execution_count": 48,
   "metadata": {},
   "outputs": [
    {
     "name": "stdout",
     "output_type": "stream",
     "text": [
      "diff 0.02620662886173175\n",
      "macro A 0.582797179746603\n",
      "macro B 0.5696938653157371\n",
      "Hier vs. +QRC: Estimated p-value: 0.1914\n"
     ]
    }
   ],
   "source": [
    "p_value = bootstrap_significance_testing(hier_r_golds, hier_qrc_preds, hier_r_preds, metric, n=int(1e4))\n",
    "print(\"Hier vs. +QRC: Estimated p-value: \" + str(p_value))"
   ]
  },
  {
   "cell_type": "code",
   "execution_count": 49,
   "metadata": {
    "scrolled": false
   },
   "outputs": [
    {
     "name": "stdout",
     "output_type": "stream",
     "text": [
      "diff -0.0008984884744893673\n",
      "macro A 0.5692446210784924\n",
      "macro B 0.5696938653157371\n",
      "Hier vs. +QCR: Estimated p-value: 0.5045\n"
     ]
    }
   ],
   "source": [
    "p_value = bootstrap_significance_testing(hier_r_golds, hier_qcr_preds, hier_r_preds, metric, n=int(1e4))\n",
    "print(\"Hier vs. +QCR: Estimated p-value: \" + str(p_value))"
   ]
  },
  {
   "cell_type": "code",
   "execution_count": null,
   "metadata": {},
   "outputs": [],
   "source": []
  }
 ],
 "metadata": {
  "kernelspec": {
   "display_name": "Python 3",
   "language": "python",
   "name": "python3"
  },
  "language_info": {
   "codemirror_mode": {
    "name": "ipython",
    "version": 3
   },
   "file_extension": ".py",
   "mimetype": "text/x-python",
   "name": "python",
   "nbconvert_exporter": "python",
   "pygments_lexer": "ipython3",
   "version": "3.7.6"
  }
 },
 "nbformat": 4,
 "nbformat_minor": 4
}

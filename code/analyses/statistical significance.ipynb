{
 "cells": [
  {
   "cell_type": "code",
   "execution_count": 1,
   "metadata": {},
   "outputs": [],
   "source": [
    "import json\n",
    "import numpy as np\n",
    "from sklearn import metrics\n"
   ]
  },
  {
   "cell_type": "code",
   "execution_count": 95,
   "metadata": {},
   "outputs": [],
   "source": [
    "np.random.seed(1234)\n",
    "\n",
    "# adapted from: https://github.com/RobertInjac/Master-thesis/\n",
    "def bootstrap_significance_testing(y_true, y_predA, y_predB, metric, n=int(1e5)):\n",
    "    \"\"\"\n",
    "    Perform bootstrap significance testing.\n",
    "    \n",
    "    Null hypothesis is: A is no better than B on the population as a whole.\n",
    "    Alternative hypothesis: A is better than B on the population as a whole.\n",
    "    \n",
    "    The return value is the p-value for this test.\n",
    "    The bootstrap estimates the p-value though a combination of simulation and approximation.\n",
    "    \n",
    "    A small p-value indicates strong evidence against the null hypothesis.\n",
    "    In other words, it gives evidence that A is better than B.\n",
    "    \n",
    "    Explaination in detail (section 2.2. Boostrap):\n",
    "    Berg-Kirkpatrick, Taylor, David Burkett, and Dan Klein. \"An empirical investigation of statistical significance in nlp.\"\n",
    "    Proceedings of the 2012 Joint Conference on Empirical Methods in Natural Language Processing and Computational Natural Language Learning.\n",
    "    Association for Computational Linguistics, 2012.\n",
    "    \n",
    "    :param y_true: \n",
    "    :param y_predA: predictions of model A\n",
    "    :param y_predB: predictions of model B\n",
    "    :param metric: used metric, has to be a function of form f(y_true, y_pred)\n",
    "    :param n: integer; the number of times to perform bootstrap resampling\n",
    "    \"\"\"\n",
    "    v1 = metric(y_true, y_predA)\n",
    "    v2 = metric(y_true, y_predB)\n",
    "    d = (v1 - v2) * 2 # A has to beat B by at least 2* delta(x)\n",
    "    print('delta', d)\n",
    "    s = 0 # number of times A beats B\n",
    "    print('diff', d)\n",
    "    print('macro A', v1)\n",
    "    print('macro B', v2)\n",
    "    l = len(y_true)\n",
    "    for i in range(n):\n",
    "        idx = np.random.choice(l, l, replace=True) # sample indices with replacement\n",
    "        v1i = metric(y_true[idx], y_predA[idx])\n",
    "        v2i = metric(y_true[idx], y_predB[idx])\n",
    "        #print('f1 A', v1i)\n",
    "        #print('f1 B', v2i)\n",
    "        di = v1i - v2i\n",
    "        if di > d:\n",
    "            s += 1\n",
    "    print('s',s)\n",
    "    print('n',n)\n",
    "    return s / n\n",
    "    "
   ]
  },
  {
   "cell_type": "code",
   "execution_count": 96,
   "metadata": {},
   "outputs": [],
   "source": [
    "def get_golds_preds(file_name, is_fine=True):\n",
    "    file_suffix = \"_test\"\n",
    "    file_suffix_fine = file_suffix + \"_fine\"\n",
    "    json_gold_pred = \"label_set_info (id/gold/pred)\"\n",
    "    json_gold_pred_fine = \"id_gold_pred_fine\"\n",
    "\n",
    "\n",
    "    n_folds = 4\n",
    "\n",
    "    json_files = []\n",
    "    for fold in range(n_folds):\n",
    "        if is_fine:\n",
    "            json_file = file_name + str(fold) + file_suffix_fine\n",
    "        else:\n",
    "            json_file = file_name + str(fold) + file_suffix\n",
    "        json_files.append(json_file)\n",
    "\n",
    "    if is_fine:\n",
    "        json_gold_pred = json_gold_pred_fine\n",
    "\n",
    "    id_golds_preds = []    \n",
    "    for json_file in json_files:\n",
    "        with open(json_file, 'r') as json_data:\n",
    "            id_golds_preds.extend(json.load(json_data)[json_gold_pred])\n",
    "\n",
    "    golds = []\n",
    "    preds = []\n",
    "    for _, gold, pred in id_golds_preds:\n",
    "        golds.append(gold)\n",
    "        preds.append(pred)\n",
    "\n",
    "    return np.array(golds), np.array(preds)"
   ]
  },
  {
   "cell_type": "code",
   "execution_count": 97,
   "metadata": {},
   "outputs": [],
   "source": [
    "metric = lambda predA, predB: metrics.f1_score(predA, predB, average='macro')"
   ]
  },
  {
   "cell_type": "code",
   "execution_count": 98,
   "metadata": {},
   "outputs": [],
   "source": [
    "base_r_file = \"/Users/elisa/Documents/CompLing/congressional_hearing/results_final/roberta_classification/1_input/metrics_roberta_classification_r_text_test.json_fold\"\n",
    "\n",
    "base_hr_file = \"/Users/elisa/Documents/CompLing/congressional_hearing/results_final/roberta_classification/2_input/metrics_roberta_classification_hit_order_r_text_test.json_fold\"\n",
    "\n",
    "base_rc_file = \"/Users/elisa/Documents/CompLing/congressional_hearing/results_final/roberta_classification/2_input/metrics_roberta_classification_r_text_gold_sentiments_coarse_num_test.json_fold\"\n",
    "base_cr_file = \"/Users/elisa/Documents/CompLing/congressional_hearing/results_final/roberta_classification/2_input/metrics_roberta_classification_gold_sentiments_coarse_num_r_text_test.json_fold\"\n",
    "\n",
    "base_r_golds, base_r_preds = get_golds_preds(base_r_file, is_fine=False)\n",
    "\n",
    "base_hr_golds, base_hr_preds = get_golds_preds(base_hr_file, is_fine=False)\n",
    "\n",
    "base_rc_golds, base_rc_preds = get_golds_preds(base_rc_file, is_fine=False)\n",
    "base_cr_golds, base_cr_preds = get_golds_preds(base_cr_file, is_fine=False)\n",
    "\n",
    "majority_preds = np.array([[1]*len(base_r_golds[0])]*len(base_r_golds))"
   ]
  },
  {
   "cell_type": "markdown",
   "metadata": {},
   "source": [
    "### Sanity check w/ Majority"
   ]
  },
  {
   "cell_type": "code",
   "execution_count": 19,
   "metadata": {
    "scrolled": true
   },
   "outputs": [
    {
     "name": "stdout",
     "output_type": "stream",
     "text": [
      "delta 0.3449333385880894\n",
      "diff 0.3449333385880894\n",
      "macro A 0.561065043749145\n",
      "macro B 0.3885983744551003\n",
      "s 0\n",
      "n 10000\n",
      "Majority vs. Base: Estimated p-value:  0.0\n"
     ]
    }
   ],
   "source": [
    "p_value = bootstrap_significance_testing(base_r_golds, base_r_preds, majority_preds, metric, n=int(1e4))\n",
    "print(\"Majority vs. Base: Estimated p-value: \", p_value)"
   ]
  },
  {
   "cell_type": "markdown",
   "metadata": {},
   "source": [
    "### 2-inputs w/ Coarse-grained sentiment"
   ]
  },
  {
   "cell_type": "code",
   "execution_count": 20,
   "metadata": {
    "scrolled": false
   },
   "outputs": [
    {
     "name": "stdout",
     "output_type": "stream",
     "text": [
      "delta 0.1001994301431477\n",
      "diff 0.1001994301431477\n",
      "macro A 0.6111647588207189\n",
      "macro B 0.561065043749145\n",
      "s 4\n",
      "n 10000\n",
      "Base vs. +RC: Estimated p-value: 0.0004\n"
     ]
    }
   ],
   "source": [
    "p_value = bootstrap_significance_testing(base_r_golds, base_rc_preds, base_r_preds, metric, n=int(1e4))\n",
    "print(\"Base vs. +RC: Estimated p-value: \" + str(p_value))"
   ]
  },
  {
   "cell_type": "code",
   "execution_count": 21,
   "metadata": {
    "scrolled": false
   },
   "outputs": [
    {
     "name": "stdout",
     "output_type": "stream",
     "text": [
      "delta 0.106811666705668\n",
      "diff 0.106811666705668\n",
      "macro A 0.614470877101979\n",
      "macro B 0.561065043749145\n",
      "s 4\n",
      "n 10000\n",
      "Base vs. +CR: Estimated p-value: 0.0004\n"
     ]
    }
   ],
   "source": [
    "p_value = bootstrap_significance_testing(base_r_golds, base_cr_preds, base_r_preds, metric, n=int(1e4))\n",
    "print(\"Base vs. +CR: Estimated p-value: \" + str(p_value))"
   ]
  },
  {
   "cell_type": "markdown",
   "metadata": {},
   "source": [
    "### 2-inputs w/ Hit order"
   ]
  },
  {
   "cell_type": "code",
   "execution_count": 22,
   "metadata": {
    "scrolled": true
   },
   "outputs": [
    {
     "name": "stdout",
     "output_type": "stream",
     "text": [
      "delta 0.028323346557466378\n",
      "diff 0.028323346557466378\n",
      "macro A 0.5752267170278782\n",
      "macro B 0.561065043749145\n",
      "s 1302\n",
      "n 10000\n",
      "Base vs. +HR: Estimated p-value: 0.1302\n"
     ]
    }
   ],
   "source": [
    "p_value = bootstrap_significance_testing(base_r_golds, base_hr_preds, base_r_preds, metric, n=int(1e4))\n",
    "print(\"Base vs. +HR: Estimated p-value: \" + str(p_value))"
   ]
  },
  {
   "cell_type": "markdown",
   "metadata": {},
   "source": [
    "## Hierarchical"
   ]
  },
  {
   "cell_type": "code",
   "execution_count": 109,
   "metadata": {
    "scrolled": true
   },
   "outputs": [],
   "source": [
    "hier_r_file = \"/Users/elisa/Documents/CompLing/congressional_hearing/results_final/roberta_hierarchical/1_input/metrics_roberta_hierarchical_r_text_test.json_fold\"\n",
    "\n",
    "hier_r_old_file = \"/Users/elisa/Documents/CompLing/congressional_hearing/results/roberta_classification/roberta_test_hier/1_input/metrics_roberta_hierarchical_r_text_test.json_fold\"\n",
    "hier_cr_old_file = \"/Users/elisa/Documents/CompLing/congressional_hearing/results/roberta_classification/roberta_test_hier/2_input/metrics_roberta_hierarchical_gold_sentiments_coarse_num_r_text_test.json_fold\"\n",
    "hier_rc_old_file = \"/Users/elisa/Documents/CompLing/congressional_hearing/results/roberta_classification/roberta_test_hier/2_input/metrics_roberta_hierarchical_r_text_gold_sentiments_coarse_num_test.json_fold\"\n",
    "hier_tr_old_file = \"/Users/elisa/Documents/CompLing/congressional_hearing/results/roberta_classification/roberta_test_hier/2_input/metrics_roberta_hierarchical_q_text_last_question_r_text_test.json_fold\"\n",
    "hier_rct_old_file = \"/Users/elisa/Documents/CompLing/congressional_hearing/results/roberta_classification/roberta_test_hier/3_input/metrics_roberta_hierarchical_r_text_gold_sentiments_coarse_num_q_text_last_question_test.json_fold\"\n",
    "\n",
    "hier_rs_file = \"/Users/elisa/Documents/CompLing/congressional_hearing/results_final/roberta_hierarchical/2_input/metrics_roberta_hierarchical_r_text_gold_sentiments_num_test.json_fold\"\n",
    "hier_sr_file = \"/Users/elisa/Documents/CompLing/congressional_hearing/results_final/roberta_hierarchical/2_input/metrics_roberta_hierarchical_gold_sentiments_num_r_text_test.json_fold\"\n",
    "hier_rc_file = \"/Users/elisa/Documents/CompLing/congressional_hearing/results_final/roberta_hierarchical/2_input/metrics_roberta_hierarchical_r_text_gold_sentiments_coarse_num_test.json_fold\"\n",
    "hier_cr_file = \"/Users/elisa/Documents/CompLing/congressional_hearing/results_final/roberta_hierarchical/2_input/metrics_roberta_hierarchical_gold_sentiments_coarse_num_r_text_test.json_fold\"\n",
    "\n",
    "hier_tr_file = \"/Users/elisa/Documents/CompLing/congressional_hearing/results_final/roberta_hierarchical/2_input/metrics_roberta_hierarchical_q_text_last_question_r_text_test.json_fold\"\n",
    "hier_rt_file = \"/Users/elisa/Documents/CompLing/congressional_hearing/results_final/roberta_hierarchical/2_input/metrics_roberta_hierarchical_q_text_last_question_r_text_test.json_fold\"\n",
    "\n",
    "\n",
    "hier_fr_file = \"/Users/elisa/Documents/CompLing/congressional_hearing/results_final/roberta_hierarchical/2_input/metrics_roberta_hierarchical_q_text_first_question_and_rest_r_text_test.json_fold\"\n",
    "hier_rf_file = \"/Users/elisa/Documents/CompLing/congressional_hearing/results_final/roberta_hierarchical/2_input/metrics_roberta_hierarchical_r_text_q_text_first_question_and_rest_test.json_fold\"\n",
    "\n",
    "hier_er_file = \"/Users/elisa/Documents/CompLing/congressional_hearing/results_final/roberta_hierarchical/2_input/metrics_roberta_hierarchical_q_text_last_question_and_rest_r_text_test.json_fold\"\n",
    "hier_re_file = \"/Users/elisa/Documents/CompLing/congressional_hearing/results_final/roberta_hierarchical/2_input/metrics_roberta_hierarchical_r_text_q_text_last_question_and_rest_test.json_fold\"\n",
    "\n",
    "hier_ar_file = \"/Users/elisa/Documents/CompLing/congressional_hearing/results_final/roberta_hierarchical/2_input/metrics_roberta_hierarchical_q_text_all_questions_r_text_test.json_fold\"\n",
    "hier_ra_file = \"/Users/elisa/Documents/CompLing/congressional_hearing/results_final/roberta_hierarchical/2_input/metrics_roberta_hierarchical_r_text_q_text_all_questions_test.json_fold\"\n",
    "\n",
    "hier_2r_file = \"/Users/elisa/Documents/CompLing/congressional_hearing/results_final/roberta_hierarchical/2_input/metrics_roberta_hierarchical_q_text_last_2_sents_r_text_test.json_fold\"\n",
    "hier_r2_file = \"/Users/elisa/Documents/CompLing/congressional_hearing/results_final/roberta_hierarchical/2_input/metrics_roberta_hierarchical_r_text_q_text_last_2_sents_test.json_fold\"\n",
    "\n",
    "hier_3r_file = \"/Users/elisa/Documents/CompLing/congressional_hearing/results_final/roberta_hierarchical/2_input/metrics_roberta_hierarchical_q_text_last_3_sents_r_text_test.json_fold\"\n",
    "hier_r3_file = \"/Users/elisa/Documents/CompLing/congressional_hearing/results_final/roberta_hierarchical/2_input/metrics_roberta_hierarchical_r_text_q_text_last_3_sents_test.json_fold\"\n",
    "\n",
    "hier_hr_file = \"/Users/elisa/Documents/CompLing/congressional_hearing/results_final/roberta_hierarchical/2_input/metrics_roberta_hierarchical_hit_order_r_text_test.json_fold\"\n",
    "\n",
    "\n",
    "hier_rk_file = \"/Users/elisa/Documents/CompLing/congressional_hearing/results_final/roberta_hierarchical/2_input/metrics_roberta_hierarchical_r_text_q_speaker_test.json_fold\"\n",
    "hier_kr_file = \"/Users/elisa/Documents/CompLing/congressional_hearing/results_final/roberta_hierarchical/2_input/metrics_roberta_hierarchical_q_speaker_r_text_test.json_fold\"\n",
    "\n",
    "hier_rp_file = \"/Users/elisa/Documents/CompLing/congressional_hearing/results_final/roberta_hierarchical/2_input/metrics_roberta_hierarchical_r_text_q_speaker_party_test.json_fold\"\n",
    "\n",
    "hier_rl_file = \"/Users/elisa/Documents/CompLing/congressional_hearing/results_final/roberta_hierarchical/2_input/metrics_roberta_hierarchical_r_text_q_speaker_role_test.json_fold\"\n",
    "\n",
    "hier_qr_file = \"/Users/elisa/Documents/CompLing/congressional_hearing/results_final/roberta_hierarchical/2_input/metrics_roberta_hierarchical_gold_q_sentiments_coarse_num_r_text_test.json_fold\"\n",
    "hier_rq_file = \"/Users/elisa/Documents/CompLing/congressional_hearing/results_final/roberta_hierarchical/2_input/metrics_roberta_hierarchical_r_text_gold_q_sentiments_coarse_num_test.json_fold\"\n",
    "\n",
    "hier_ri_file = \"/Users/elisa/Documents/CompLing/congressional_hearing/results_final/roberta_hierarchical/2_input/metrics_roberta_hierarchical_r_text_gold_q_intents_num_test.json_fold\"\n",
    "hier_ir_file = \"/Users/elisa/Documents/CompLing/congressional_hearing/results_final/roberta_hierarchical/2_input/metrics_roberta_hierarchical_gold_q_intents_num_r_text_test.json_fold\"\n",
    "\n",
    "hier_rcf_file = \"/Users/elisa/Documents/CompLing/congressional_hearing/results_final/roberta_hierarchical/3_input/metrics_roberta_hierarchical_r_text_gold_sentiments_coarse_num_q_text_first_question_and_rest_test.json_fold\"\n",
    "hier_frc_file = \"/Users/elisa/Documents/CompLing/congressional_hearing/results_final/roberta_hierarchical/3_input/metrics_roberta_hierarchical_q_text_first_question_and_rest_r_text_gold_sentiments_coarse_num_test.json_fold\"\n",
    "\n",
    "hier_crq_file = \"/Users/elisa/Documents/CompLing/congressional_hearing/results_final/roberta_hierarchical/3_input/metrics_roberta_hierarchical_gold_sentiments_coarse_num_r_text_gold_q_sentiments_coarse_num_test.json_fold\"\n",
    "hier_cqr_file = \"/Users/elisa/Documents/CompLing/congressional_hearing/results_final/roberta_hierarchical/3_input/metrics_roberta_hierarchical_gold_sentiments_coarse_num_gold_q_sentiments_coarse_num_r_text_test.json_fold\"\n",
    "hier_rcq_file = \"/Users/elisa/Documents/CompLing/congressional_hearing/results_final/roberta_hierarchical/3_input/metrics_roberta_hierarchical_r_text_gold_sentiments_coarse_num_gold_q_sentiments_coarse_num_test.json_fold\"\n",
    "hier_rqc_file = \"/Users/elisa/Documents/CompLing/congressional_hearing/results_final/roberta_hierarchical/3_input/metrics_roberta_hierarchical_r_text_gold_q_sentiments_coarse_num_gold_sentiments_coarse_num_test.json_fold\"\n",
    "hier_qcr_file = \"/Users/elisa/Documents/CompLing/congressional_hearing/results_final/roberta_hierarchical/3_input/metrics_roberta_hierarchical_gold_q_sentiments_coarse_num_gold_sentiments_coarse_num_r_text_test.json_fold\"\n",
    "hier_qrc_file = \"/Users/elisa/Documents/CompLing/congressional_hearing/results_final/roberta_hierarchical/3_input/metrics_roberta_hierarchical_gold_q_sentiments_coarse_num_r_text_gold_sentiments_coarse_num_test.json_fold\"\n",
    "\n",
    "\n",
    "hier_chr_file = \"/Users/elisa/Documents/CompLing/congressional_hearing/results_final/roberta_hierarchical/3_input/metrics_roberta_hierarchical_gold_sentiments_coarse_num_hit_order_r_text_test.json_fold\"\n",
    "hier_crh_file = \"/Users/elisa/Documents/CompLing/congressional_hearing/results_final/roberta_hierarchical/3_input/metrics_roberta_hierarchical_gold_sentiments_coarse_num_r_text_hit_order_test.json_fold\"\n",
    "hier_rch_file = \"/Users/elisa/Documents/CompLing/congressional_hearing/results_final/roberta_hierarchical/3_input/metrics_roberta_hierarchical_r_text_gold_sentiments_coarse_num_hit_order_test.json_fold\"\n",
    "\n",
    "hier_rqhc_file = \"/Users/elisa/Documents/CompLing/congressional_hearing/results_final/roberta_hierarchical/4_input/metrics_roberta_hierarchical_r_text_gold_q_sentiments_coarse_num_hit_order_gold_sentiments_coarse_num_test.json_fold\"\n",
    "\n",
    "\n",
    "hier_r_golds, hier_r_preds = get_golds_preds(hier_r_file, is_fine=True)\n",
    "\n",
    "hier_rc_golds, hier_rc_preds = get_golds_preds(hier_rc_file, is_fine=True)\n",
    "hier_cr_golds, hier_cr_preds = get_golds_preds(hier_cr_file, is_fine=True)\n",
    "\n",
    "hier_rs_golds, hier_rs_preds = get_golds_preds(hier_rs_file, is_fine=True)\n",
    "hier_sr_golds, hier_sr_preds = get_golds_preds(hier_sr_file, is_fine=True)\n",
    "\n",
    "hier_tr_golds, hier_tr_preds = get_golds_preds(hier_tr_file, is_fine=True)\n",
    "hier_rt_golds, hier_rt_preds = get_golds_preds(hier_tr_file, is_fine=True)\n",
    "\n",
    "hier_fr_golds, hier_fr_preds = get_golds_preds(hier_fr_file, is_fine=True)\n",
    "hier_rf_golds, hier_rf_preds = get_golds_preds(hier_rf_file, is_fine=True)\n",
    "\n",
    "hier_er_golds, hier_er_preds = get_golds_preds(hier_er_file, is_fine=True)\n",
    "hier_re_golds, hier_re_preds = get_golds_preds(hier_re_file, is_fine=True)\n",
    "\n",
    "hier_ar_golds, hier_ar_preds = get_golds_preds(hier_ar_file, is_fine=True)\n",
    "hier_ra_golds, hier_ra_preds = get_golds_preds(hier_ra_file, is_fine=True)\n",
    "\n",
    "hier_2r_golds, hier_2r_preds = get_golds_preds(hier_2r_file, is_fine=True)\n",
    "hier_r2_golds, hier_r2_preds = get_golds_preds(hier_r2_file, is_fine=True)\n",
    "\n",
    "hier_3r_golds, hier_3r_preds = get_golds_preds(hier_3r_file, is_fine=True)\n",
    "hier_r3_golds, hier_r3_preds = get_golds_preds(hier_r3_file, is_fine=True)\n",
    "\n",
    "hier_hr_golds, hier_hr_preds = get_golds_preds(hier_hr_file, is_fine=True)\n",
    "\n",
    "hier_fr_golds, hier_fr_preds = get_golds_preds(hier_fr_file, is_fine=True)\n",
    "\n",
    "hier_rk_golds, hier_rk_preds = get_golds_preds(hier_rk_file, is_fine=True)\n",
    "hier_kr_golds, hier_kr_preds = get_golds_preds(hier_kr_file, is_fine=True)\n",
    "hier_rp_golds, hier_rp_preds = get_golds_preds(hier_rp_file, is_fine=True)\n",
    "hier_rl_golds, hier_rl_preds = get_golds_preds(hier_rl_file, is_fine=True)\n",
    "\n",
    "hier_ir_golds, hier_ir_preds = get_golds_preds(hier_ir_file, is_fine=True)\n",
    "hier_ri_golds, hier_ri_preds = get_golds_preds(hier_ri_file, is_fine=True)\n",
    "\n",
    "hier_qr_golds, hier_qr_preds = get_golds_preds(hier_qr_file, is_fine=True)\n",
    "hier_rq_golds, hier_rq_preds = get_golds_preds(hier_rq_file, is_fine=True)\n",
    "\n",
    "hier_rcf_golds, hier_rcf_preds = get_golds_preds(hier_rcf_file, is_fine=True)\n",
    "hier_frc_golds, hier_frc_preds = get_golds_preds(hier_frc_file, is_fine=True)\n",
    "\n",
    "hier_crq_golds, hier_crq_preds = get_golds_preds(hier_crq_file, is_fine=True)\n",
    "hier_cqr_golds, hier_cqr_preds = get_golds_preds(hier_cqr_file, is_fine=True)\n",
    "hier_rcq_golds, hier_rcq_preds = get_golds_preds(hier_rcq_file, is_fine=True)\n",
    "hier_rqc_golds, hier_rqc_preds = get_golds_preds(hier_rqc_file, is_fine=True)\n",
    "hier_qcr_golds, hier_qcr_preds = get_golds_preds(hier_qcr_file, is_fine=True)\n",
    "hier_qrc_golds, hier_qrc_preds = get_golds_preds(hier_qrc_file, is_fine=True)\n",
    "\n",
    "\n",
    "hier_chr_golds, hier_chr_preds = get_golds_preds(hier_chr_file, is_fine=True)\n",
    "hier_crh_golds, hier_crh_preds = get_golds_preds(hier_crh_file, is_fine=True)\n",
    "hier_rch_golds, hier_rch_preds = get_golds_preds(hier_rch_file, is_fine=True)\n",
    "\n",
    "hier_rqhc_golds, hier_rqhc_preds = get_golds_preds(hier_rqhc_file, is_fine=True)\n",
    "\n",
    "hier_r_old_golds, hier_r_old_preds = get_golds_preds(hier_r_old_file, is_fine=True)\n",
    "hier_cr_old_golds, hier_cr_old_preds = get_golds_preds(hier_cr_old_file, is_fine=True)\n",
    "hier_rc_old_golds, hier_rc_old_preds = get_golds_preds(hier_rc_old_file, is_fine=True)\n",
    "hier_tr_old_golds, hier_tr_old_preds = get_golds_preds(hier_tr_old_file, is_fine=True)\n",
    "hier_rct_old_golds, hier_rct_old_preds = get_golds_preds(hier_rct_old_file, is_fine=True)"
   ]
  },
  {
   "cell_type": "code",
   "execution_count": 81,
   "metadata": {
    "scrolled": true
   },
   "outputs": [
    {
     "name": "stdout",
     "output_type": "stream",
     "text": [
      "delta 0.020039894669472202\n",
      "diff 0.020039894669472202\n",
      "macro A 0.5710849910838811\n",
      "macro B 0.561065043749145\n",
      "s 2470\n",
      "n 10000\n",
      "Base vs. Hier: Estimated p-value: 0.247\n"
     ]
    }
   ],
   "source": [
    "p_value = bootstrap_significance_testing(hier_r_golds, hier_r_preds, base_r_preds, metric, n=int(1e4))\n",
    "print(\"Base vs. Hier: Estimated p-value: \" + str(p_value))"
   ]
  },
  {
   "cell_type": "markdown",
   "metadata": {},
   "source": [
    "### Old model"
   ]
  },
  {
   "cell_type": "code",
   "execution_count": 101,
   "metadata": {},
   "outputs": [
    {
     "name": "stdout",
     "output_type": "stream",
     "text": [
      "delta 0.046093668920515585\n",
      "diff 0.046093668920515585\n",
      "macro A 0.5927406997759949\n",
      "macro B 0.5696938653157371\n",
      "s 620\n",
      "n 10000\n",
      "Hier vs. +CR: Estimated p-value:  0.062\n",
      "delta 0.03726209233119726\n",
      "diff 0.03726209233119726\n",
      "macro A 0.5883249114813357\n",
      "macro B 0.5696938653157371\n",
      "s 1148\n",
      "n 10000\n",
      "Hier vs. +LastQR: Estimated p-value:  0.1148\n",
      "delta 0.06825419368626351\n",
      "diff 0.06825419368626351\n",
      "macro A 0.6038209621588688\n",
      "macro B 0.5696938653157371\n",
      "s 162\n",
      "n 10000\n",
      "Hier vs. +RCLastQ: Estimated p-value:  0.0162\n"
     ]
    }
   ],
   "source": [
    "p_value = bootstrap_significance_testing(hier_r_old_golds, hier_cr_old_preds, hier_r_old_preds, metric, n=int(1e4))\n",
    "print(\"Hier vs. +CR: Estimated p-value: \", p_value)\n",
    "\n",
    "p_value = bootstrap_significance_testing(hier_r_old_golds, hier_tr_old_preds, hier_r_old_preds, metric, n=int(1e4))\n",
    "print(\"Hier vs. +LastQR: Estimated p-value: \", p_value)\n",
    "\n",
    "p_value = bootstrap_significance_testing(hier_r_old_golds, hier_rct_old_preds, hier_r_old_preds, metric, n=int(1e4))\n",
    "print(\"Hier vs. +RCLastQ: Estimated p-value: \", p_value)"
   ]
  },
  {
   "cell_type": "code",
   "execution_count": 103,
   "metadata": {
    "scrolled": false
   },
   "outputs": [
    {
     "name": "stdout",
     "output_type": "stream",
     "text": [
      "delta 0.022160524765747924\n",
      "diff 0.022160524765747924\n",
      "macro A 0.6038209621588688\n",
      "macro B 0.5927406997759949\n",
      "s 2660\n",
      "n 10000\n",
      "+CR vs. +RCLastQ: Estimated p-value:  0.266\n"
     ]
    }
   ],
   "source": [
    "p_value = bootstrap_significance_testing(hier_r_old_golds, hier_rct_old_preds, hier_cr_old_preds, metric, n=int(1e4))\n",
    "print(\"+CR vs. +RCLastQ: Estimated p-value: \", p_value)"
   ]
  },
  {
   "cell_type": "code",
   "execution_count": 108,
   "metadata": {
    "scrolled": false
   },
   "outputs": [
    {
     "name": "stdout",
     "output_type": "stream",
     "text": [
      "delta 0.03099210135506625\n",
      "diff 0.03099210135506625\n",
      "macro A 0.6038209621588688\n",
      "macro B 0.5883249114813357\n",
      "s 2041\n",
      "n 10000\n",
      "+LastQR vs. +RCLastQ: Estimated p-value:  0.2041\n"
     ]
    }
   ],
   "source": [
    "p_value = bootstrap_significance_testing(hier_r_old_golds, hier_rct_old_preds, hier_tr_old_preds, metric, n=int(1e4))\n",
    "print(\"+LastQR vs. +RCLastQ: Estimated p-value: \", p_value)"
   ]
  },
  {
   "cell_type": "code",
   "execution_count": null,
   "metadata": {},
   "outputs": [],
   "source": [
    "p_value = bootstrap_significance_testing(hier_r_old_golds, hier_rct_old_preds, hier_cr_old_preds, metric, n=int(1e4))\n",
    "print(\"+CR vs. +RCLastQ: Estimated p-value: \", p_value)"
   ]
  },
  {
   "cell_type": "markdown",
   "metadata": {},
   "source": [
    "### 2-inputs w/ Hit Order"
   ]
  },
  {
   "cell_type": "code",
   "execution_count": 26,
   "metadata": {
    "scrolled": false
   },
   "outputs": [
    {
     "name": "stdout",
     "output_type": "stream",
     "text": [
      "delta 0.02230272833368141\n",
      "diff 0.02230272833368141\n",
      "macro A 0.5822363552507218\n",
      "macro B 0.5710849910838811\n",
      "s 2059\n",
      "n 10000\n",
      "Hier vs. +HR: Estimated p-value:  0.2059\n"
     ]
    }
   ],
   "source": [
    "p_value = bootstrap_significance_testing(hier_r_golds, hier_hr_preds, hier_r_preds, metric, n=int(1e4))\n",
    "print(\"Hier vs. +HR: Estimated p-value: \", p_value)"
   ]
  },
  {
   "cell_type": "markdown",
   "metadata": {},
   "source": [
    "### 2-inputs w/ Question"
   ]
  },
  {
   "cell_type": "code",
   "execution_count": 82,
   "metadata": {
    "scrolled": true
   },
   "outputs": [
    {
     "name": "stdout",
     "output_type": "stream",
     "text": [
      "delta -0.003333713072726452\n",
      "diff -0.003333713072726452\n",
      "macro A 0.5694181345475179\n",
      "macro B 0.5710849910838811\n",
      "s 5411\n",
      "n 10000\n",
      "Hier vs. +FirstqandrestR: Estimated p-value: 0.5411\n",
      "delta -0.04994534022174246\n",
      "diff -0.04994534022174246\n",
      "macro A 0.5461123209730099\n",
      "macro B 0.5710849910838811\n",
      "s 9461\n",
      "n 10000\n",
      "Hier vs. +RFirstqandrest: Estimated p-value: 0.9461\n"
     ]
    }
   ],
   "source": [
    "p_value = bootstrap_significance_testing(hier_r_golds, hier_fr_preds, hier_r_preds, metric, n=int(1e4))\n",
    "print(\"Hier vs. +FirstqandrestR: Estimated p-value: \" + str(p_value))\n",
    "p_value = bootstrap_significance_testing(hier_r_golds, hier_rf_preds, hier_r_preds, metric, n=int(1e4))\n",
    "print(\"Hier vs. +RFirstqandrest: Estimated p-value: \" + str(p_value))"
   ]
  },
  {
   "cell_type": "code",
   "execution_count": 83,
   "metadata": {},
   "outputs": [
    {
     "name": "stdout",
     "output_type": "stream",
     "text": [
      "delta -0.030690487931488875\n",
      "diff -0.030690487931488875\n",
      "macro A 0.5557397471181367\n",
      "macro B 0.5710849910838811\n",
      "s 8255\n",
      "n 10000\n",
      "Hier vs. +LastqandrestR: Estimated p-value: 0.8255\n",
      "delta -0.04995546190815081\n",
      "diff -0.04995546190815081\n",
      "macro A 0.5461072601298057\n",
      "macro B 0.5710849910838811\n",
      "s 9335\n",
      "n 10000\n",
      "Hier vs. +RLastqandrest: Estimated p-value: 0.9335\n"
     ]
    }
   ],
   "source": [
    "p_value = bootstrap_significance_testing(hier_r_golds, hier_er_preds, hier_r_preds, metric, n=int(1e4))\n",
    "print(\"Hier vs. +LastqandrestR: Estimated p-value: \" + str(p_value))\n",
    "p_value = bootstrap_significance_testing(hier_r_golds, hier_re_preds, hier_r_preds, metric, n=int(1e4))\n",
    "print(\"Hier vs. +RLastqandrest: Estimated p-value: \" + str(p_value))"
   ]
  },
  {
   "cell_type": "code",
   "execution_count": 84,
   "metadata": {},
   "outputs": [
    {
     "name": "stdout",
     "output_type": "stream",
     "text": [
      "delta -0.024628840775199334\n",
      "diff -0.024628840775199334\n",
      "macro A 0.5587705706962814\n",
      "macro B 0.5710849910838811\n",
      "s 7751\n",
      "n 10000\n",
      "Hier vs. +LastqR: Estimated p-value: 0.7751\n",
      "delta -0.024628840775199334\n",
      "diff -0.024628840775199334\n",
      "macro A 0.5587705706962814\n",
      "macro B 0.5710849910838811\n",
      "s 7862\n",
      "n 10000\n",
      "Hier vs. +RLastq: Estimated p-value: 0.7862\n"
     ]
    }
   ],
   "source": [
    "p_value = bootstrap_significance_testing(hier_r_golds, hier_tr_preds, hier_r_preds, metric, n=int(1e4))\n",
    "print(\"Hier vs. +LastqR: Estimated p-value: \" + str(p_value))\n",
    "p_value = bootstrap_significance_testing(hier_r_golds, hier_rt_preds, hier_r_preds, metric, n=int(1e4))\n",
    "print(\"Hier vs. +RLastq: Estimated p-value: \" + str(p_value))"
   ]
  },
  {
   "cell_type": "code",
   "execution_count": 85,
   "metadata": {},
   "outputs": [
    {
     "name": "stdout",
     "output_type": "stream",
     "text": [
      "delta -0.019257619660831837\n",
      "diff -0.019257619660831837\n",
      "macro A 0.5614561812534652\n",
      "macro B 0.5710849910838811\n",
      "s 7435\n",
      "n 10000\n",
      "Hier vs. +AllqR: Estimated p-value: 0.7435\n",
      "delta -0.0446299258196432\n",
      "diff -0.0446299258196432\n",
      "macro A 0.5487700281740595\n",
      "macro B 0.5710849910838811\n",
      "s 9367\n",
      "n 10000\n",
      "Hier vs. +RAllq: Estimated p-value: 0.9367\n"
     ]
    }
   ],
   "source": [
    "p_value = bootstrap_significance_testing(hier_r_golds, hier_ar_preds, hier_r_preds, metric, n=int(1e4))\n",
    "print(\"Hier vs. +AllqR: Estimated p-value: \" + str(p_value))\n",
    "p_value = bootstrap_significance_testing(hier_r_golds, hier_ra_preds, hier_r_preds, metric, n=int(1e4))\n",
    "print(\"Hier vs. +RAllq: Estimated p-value: \" + str(p_value))"
   ]
  },
  {
   "cell_type": "code",
   "execution_count": 86,
   "metadata": {},
   "outputs": [
    {
     "name": "stdout",
     "output_type": "stream",
     "text": [
      "delta -0.005181227821587697\n",
      "diff -0.005181227821587697\n",
      "macro A 0.5684943771730873\n",
      "macro B 0.5710849910838811\n",
      "s 5638\n",
      "n 10000\n",
      "Hier vs. +Last2R: Estimated p-value: 0.5638\n",
      "delta -0.07071547593573668\n",
      "diff -0.07071547593573668\n",
      "macro A 0.5357272531160128\n",
      "macro B 0.5710849910838811\n",
      "s 9880\n",
      "n 10000\n",
      "Hier vs. +RLast2: Estimated p-value: 0.988\n"
     ]
    }
   ],
   "source": [
    "p_value = bootstrap_significance_testing(hier_r_golds, hier_2r_preds, hier_r_preds, metric, n=int(1e4))\n",
    "print(\"Hier vs. +Last2R: Estimated p-value: \" + str(p_value))\n",
    "p_value = bootstrap_significance_testing(hier_r_golds, hier_r2_preds, hier_r_preds, metric, n=int(1e4))\n",
    "print(\"Hier vs. +RLast2: Estimated p-value: \" + str(p_value))"
   ]
  },
  {
   "cell_type": "code",
   "execution_count": 87,
   "metadata": {
    "scrolled": false
   },
   "outputs": [
    {
     "name": "stdout",
     "output_type": "stream",
     "text": [
      "delta -0.06387616525617634\n",
      "diff -0.06387616525617634\n",
      "macro A 0.5391469084557929\n",
      "macro B 0.5710849910838811\n",
      "s 9812\n",
      "n 10000\n",
      "Hier vs. +Last3R: Estimated p-value: 0.9812\n",
      "delta -0.07809628732813456\n",
      "diff -0.07809628732813456\n",
      "macro A 0.5320368474198138\n",
      "macro B 0.5710849910838811\n",
      "s 9939\n",
      "n 10000\n",
      "Hier vs. +RLas32: Estimated p-value: 0.9939\n"
     ]
    }
   ],
   "source": [
    "p_value = bootstrap_significance_testing(hier_r_golds, hier_3r_preds, hier_r_preds, metric, n=int(1e4))\n",
    "print(\"Hier vs. +Last3R: Estimated p-value: \" + str(p_value))\n",
    "p_value = bootstrap_significance_testing(hier_r_golds, hier_r3_preds, hier_r_preds, metric, n=int(1e4))\n",
    "print(\"Hier vs. +RLas32: Estimated p-value: \" + str(p_value))"
   ]
  },
  {
   "cell_type": "markdown",
   "metadata": {},
   "source": [
    "### 2-inputs Q Speaker"
   ]
  },
  {
   "cell_type": "code",
   "execution_count": 31,
   "metadata": {
    "scrolled": true
   },
   "outputs": [
    {
     "name": "stdout",
     "output_type": "stream",
     "text": [
      "delta 0.0007263802692760724\n",
      "diff 0.0007263802692760724\n",
      "macro A 0.5714481812185191\n",
      "macro B 0.5710849910838811\n",
      "s 4885\n",
      "n 10000\n",
      "Hier vs. +RK: Estimated p-value: 0.4885\n"
     ]
    }
   ],
   "source": [
    "p_value = bootstrap_significance_testing(hier_r_golds, hier_rk_preds, hier_r_preds, metric, n=int(1e4))\n",
    "print(\"Hier vs. +RK: Estimated p-value: \" + str(p_value))"
   ]
  },
  {
   "cell_type": "code",
   "execution_count": 40,
   "metadata": {
    "scrolled": true
   },
   "outputs": [
    {
     "name": "stdout",
     "output_type": "stream",
     "text": [
      "delta 0.002129818307006426\n",
      "diff 0.002129818307006426\n",
      "macro A 0.5721499002373843\n",
      "macro B 0.5710849910838811\n",
      "s 4782\n",
      "n 10000\n",
      "Hier vs. +KR: Estimated p-value: 0.4782\n"
     ]
    }
   ],
   "source": [
    "p_value = bootstrap_significance_testing(hier_r_golds, hier_kr_preds, hier_r_preds, metric, n=int(1e4))\n",
    "print(\"Hier vs. +KR: Estimated p-value: \" + str(p_value))"
   ]
  },
  {
   "cell_type": "code",
   "execution_count": 42,
   "metadata": {},
   "outputs": [
    {
     "name": "stdout",
     "output_type": "stream",
     "text": [
      "delta 0.016899353827634078\n",
      "diff 0.016899353827634078\n",
      "macro A 0.5795346679976981\n",
      "macro B 0.5710849910838811\n",
      "s 2633\n",
      "n 10000\n",
      "Hier vs. +RP: Estimated p-value: 0.2633\n"
     ]
    }
   ],
   "source": [
    "p_value = bootstrap_significance_testing(hier_r_golds, hier_rp_preds, hier_r_preds, metric, n=int(1e4))\n",
    "print(\"Hier vs. +RP: Estimated p-value: \" + str(p_value))"
   ]
  },
  {
   "cell_type": "code",
   "execution_count": 32,
   "metadata": {
    "scrolled": false
   },
   "outputs": [
    {
     "name": "stdout",
     "output_type": "stream",
     "text": [
      "delta 0.013312284586448175\n",
      "diff 0.013312284586448175\n",
      "macro A 0.5777411333771052\n",
      "macro B 0.5710849910838811\n",
      "s 3039\n",
      "n 10000\n",
      "Hier vs. +RL: Estimated p-value: 0.3039\n"
     ]
    }
   ],
   "source": [
    "p_value = bootstrap_significance_testing(hier_r_golds, hier_rl_preds, hier_r_preds, metric, n=int(1e4))\n",
    "print(\"Hier vs. +RL: Estimated p-value: \" + str(p_value))"
   ]
  },
  {
   "cell_type": "markdown",
   "metadata": {},
   "source": [
    "### 2-inputs w/ Questioner Coarse-grained sentiment"
   ]
  },
  {
   "cell_type": "code",
   "execution_count": 33,
   "metadata": {
    "scrolled": true
   },
   "outputs": [
    {
     "name": "stdout",
     "output_type": "stream",
     "text": [
      "delta 0.036548009922330094\n",
      "diff 0.036548009922330094\n",
      "macro A 0.5893589960450462\n",
      "macro B 0.5710849910838811\n",
      "s 797\n",
      "n 10000\n",
      "Hier vs. +QR: Estimated p-value: 0.0797\n"
     ]
    }
   ],
   "source": [
    "p_value = bootstrap_significance_testing(hier_r_golds, hier_qr_preds, hier_r_preds, metric, n=int(1e4))\n",
    "print(\"Hier vs. +QR: Estimated p-value: \" + str(p_value))"
   ]
  },
  {
   "cell_type": "code",
   "execution_count": 35,
   "metadata": {
    "scrolled": true
   },
   "outputs": [
    {
     "name": "stdout",
     "output_type": "stream",
     "text": [
      "delta 0.04006283554468015\n",
      "diff 0.04006283554468015\n",
      "macro A 0.5911164088562212\n",
      "macro B 0.5710849910838811\n",
      "s 899\n",
      "n 10000\n",
      "Hier vs. +RQ: Estimated p-value: 0.0899\n"
     ]
    }
   ],
   "source": [
    "p_value = bootstrap_significance_testing(hier_r_golds, hier_rq_preds, hier_r_preds, metric, n=int(1e4))\n",
    "print(\"Hier vs. +RQ: Estimated p-value: \" + str(p_value))"
   ]
  },
  {
   "cell_type": "markdown",
   "metadata": {},
   "source": [
    "### 2-inputs w/ Questioner Intents"
   ]
  },
  {
   "cell_type": "code",
   "execution_count": 37,
   "metadata": {
    "scrolled": true
   },
   "outputs": [
    {
     "name": "stdout",
     "output_type": "stream",
     "text": [
      "delta -0.004490778830823716\n",
      "diff -0.004490778830823716\n",
      "macro A 0.5688396016684693\n",
      "macro B 0.5710849910838811\n",
      "s 5563\n",
      "n 10000\n",
      "Hier vs. +RI: Estimated p-value: 0.5563\n"
     ]
    }
   ],
   "source": [
    "p_value = bootstrap_significance_testing(hier_r_golds, hier_ri_preds, hier_r_preds, metric, n=int(1e4))\n",
    "print(\"Hier vs. +RI: Estimated p-value: \" + str(p_value))"
   ]
  },
  {
   "cell_type": "code",
   "execution_count": 38,
   "metadata": {
    "scrolled": false
   },
   "outputs": [
    {
     "name": "stdout",
     "output_type": "stream",
     "text": [
      "delta 0.008550738544601755\n",
      "diff 0.008550738544601755\n",
      "macro A 0.575360360356182\n",
      "macro B 0.5710849910838811\n",
      "s 3885\n",
      "n 10000\n",
      "Hier vs. +IR: Estimated p-value: 0.3885\n"
     ]
    }
   ],
   "source": [
    "p_value = bootstrap_significance_testing(hier_r_golds, hier_ir_preds, hier_r_preds, metric, n=int(1e4))\n",
    "print(\"Hier vs. +IR: Estimated p-value: \" + str(p_value))"
   ]
  },
  {
   "cell_type": "code",
   "execution_count": 75,
   "metadata": {
    "scrolled": true
   },
   "outputs": [
    {
     "name": "stdout",
     "output_type": "stream",
     "text": [
      "delta -0.024628840775199334\n",
      "diff -0.024628840775199334\n",
      "macro A 0.5587705706962814\n",
      "macro B 0.5710849910838811\n",
      "s 7771\n",
      "n 10000\n",
      "Hier vs. +Last QuestionR: Estimated p-value: 0.7771\n"
     ]
    }
   ],
   "source": [
    "p_value = bootstrap_significance_testing(hier_r_golds, hier_tr_preds, hier_r_preds, metric, n=int(1e4))\n",
    "print(\"Hier vs. +Last QuestionR: Estimated p-value: \" + str(p_value))"
   ]
  },
  {
   "cell_type": "markdown",
   "metadata": {},
   "source": [
    "### 2-inputs w/ Fine-grained sentiment"
   ]
  },
  {
   "cell_type": "code",
   "execution_count": 110,
   "metadata": {
    "scrolled": true
   },
   "outputs": [
    {
     "name": "stdout",
     "output_type": "stream",
     "text": [
      "delta 0.10053229397760588\n",
      "diff 0.10053229397760588\n",
      "macro A 0.621351138072684\n",
      "macro B 0.5710849910838811\n",
      "s 4\n",
      "n 10000\n",
      "Hier vs. +RS: Estimated p-value: 0.0004\n",
      "delta 0.1168268072765466\n",
      "diff 0.1168268072765466\n",
      "macro A 0.6294983947221544\n",
      "macro B 0.5710849910838811\n",
      "s 0\n",
      "n 10000\n",
      "Hier vs. +SR: Estimated p-value: 0.0\n"
     ]
    }
   ],
   "source": [
    "p_value = bootstrap_significance_testing(hier_r_golds, hier_rs_preds, hier_r_preds, metric, n=int(1e4))\n",
    "print(\"Hier vs. +RS: Estimated p-value: \" + str(p_value))\n",
    "\n",
    "p_value = bootstrap_significance_testing(hier_r_golds, hier_sr_preds, hier_r_preds, metric, n=int(1e4))\n",
    "print(\"Hier vs. +SR: Estimated p-value: \" + str(p_value))"
   ]
  },
  {
   "cell_type": "code",
   "execution_count": 112,
   "metadata": {},
   "outputs": [
    {
     "name": "stdout",
     "output_type": "stream",
     "text": [
      "delta 0.027868335565156555\n",
      "diff 0.027868335565156555\n",
      "macro A 0.6294983947221544\n",
      "macro B 0.6155642269395761\n",
      "s 1463\n",
      "n 10000\n",
      "+RC vs. +SR: Estimated p-value: 0.1463\n"
     ]
    }
   ],
   "source": [
    "p_value = bootstrap_significance_testing(hier_r_golds, hier_sr_preds, hier_rc_preds, metric, n=int(1e4))\n",
    "print(\"+RC vs. +SR: Estimated p-value: \" + str(p_value))"
   ]
  },
  {
   "cell_type": "markdown",
   "metadata": {},
   "source": [
    "### 2-inputs w/ Coarse-grained sentiment"
   ]
  },
  {
   "cell_type": "code",
   "execution_count": 43,
   "metadata": {
    "scrolled": true
   },
   "outputs": [
    {
     "name": "stdout",
     "output_type": "stream",
     "text": [
      "delta 0.08895847171139004\n",
      "diff 0.08895847171139004\n",
      "macro A 0.6155642269395761\n",
      "macro B 0.5710849910838811\n",
      "s 13\n",
      "n 10000\n",
      "Hier vs. +RC: Estimated p-value: 0.0013\n"
     ]
    }
   ],
   "source": [
    "p_value = bootstrap_significance_testing(hier_r_golds, hier_rc_preds, hier_r_preds, metric, n=int(1e4))\n",
    "print(\"Hier vs. +RC: Estimated p-value: \" + str(p_value))"
   ]
  },
  {
   "cell_type": "code",
   "execution_count": 44,
   "metadata": {
    "scrolled": false
   },
   "outputs": [
    {
     "name": "stdout",
     "output_type": "stream",
     "text": [
      "delta 0.06311529165530261\n",
      "diff 0.06311529165530261\n",
      "macro A 0.6026426369115324\n",
      "macro B 0.5710849910838811\n",
      "s 192\n",
      "n 10000\n",
      "Hier vs. +CR: Estimated p-value: 0.0192\n"
     ]
    }
   ],
   "source": [
    "p_value = bootstrap_significance_testing(hier_r_golds, hier_cr_preds, hier_r_preds, metric, n=int(1e4))\n",
    "print(\"Hier vs. +CR: Estimated p-value: \" + str(p_value))"
   ]
  },
  {
   "cell_type": "markdown",
   "metadata": {},
   "source": [
    "### 3-inputs w/ Coarse-grained sentiment"
   ]
  },
  {
   "cell_type": "code",
   "execution_count": 45,
   "metadata": {
    "scrolled": false
   },
   "outputs": [
    {
     "name": "stdout",
     "output_type": "stream",
     "text": [
      "delta 0.0792131336521602\n",
      "diff 0.0792131336521602\n",
      "macro A 0.6106915579099612\n",
      "macro B 0.5710849910838811\n",
      "s 87\n",
      "n 10000\n",
      "Hier vs. +RCF: Estimated p-value: 0.0087\n"
     ]
    }
   ],
   "source": [
    "p_value = bootstrap_significance_testing(hier_r_golds, hier_rcf_preds, hier_r_preds, metric, n=int(1e4))\n",
    "print(\"Hier vs. +RCF: Estimated p-value: \" + str(p_value))"
   ]
  },
  {
   "cell_type": "code",
   "execution_count": 46,
   "metadata": {
    "scrolled": true
   },
   "outputs": [
    {
     "name": "stdout",
     "output_type": "stream",
     "text": [
      "delta -0.009745338059229836\n",
      "diff -0.009745338059229836\n",
      "macro A 0.6106915579099612\n",
      "macro B 0.6155642269395761\n",
      "s 6382\n",
      "n 10000\n",
      "RC vs. +RCF: Estimated p-value: 0.6382\n"
     ]
    }
   ],
   "source": [
    "p_value = bootstrap_significance_testing(hier_r_golds, hier_rcf_preds, hier_rc_preds, metric, n=int(1e4))\n",
    "print(\"RC vs. +RCF: Estimated p-value: \" + str(p_value))"
   ]
  },
  {
   "cell_type": "code",
   "execution_count": 48,
   "metadata": {},
   "outputs": [
    {
     "name": "stdout",
     "output_type": "stream",
     "text": [
      "delta 0.07765203907501839\n",
      "diff 0.07765203907501839\n",
      "macro A 0.6099110106213903\n",
      "macro B 0.5710849910838811\n",
      "s 135\n",
      "n 10000\n",
      "Hier vs. +FRC: Estimated p-value: 0.0135\n"
     ]
    }
   ],
   "source": [
    "p_value = bootstrap_significance_testing(hier_r_golds, hier_frc_preds, hier_r_preds, metric, n=int(1e4))\n",
    "print(\"Hier vs. +FRC: Estimated p-value: \" + str(p_value))"
   ]
  },
  {
   "cell_type": "code",
   "execution_count": 49,
   "metadata": {},
   "outputs": [
    {
     "name": "stdout",
     "output_type": "stream",
     "text": [
      "delta -0.011306432636371655\n",
      "diff -0.011306432636371655\n",
      "macro A 0.6099110106213903\n",
      "macro B 0.6155642269395761\n",
      "s 6492\n",
      "n 10000\n",
      "RC vs. +FRC: Estimated p-value: 0.6492\n"
     ]
    }
   ],
   "source": [
    "p_value = bootstrap_significance_testing(hier_r_golds, hier_frc_preds, hier_rc_preds, metric, n=int(1e4))\n",
    "print(\"RC vs. +FRC: Estimated p-value: \" + str(p_value))"
   ]
  },
  {
   "cell_type": "code",
   "execution_count": 50,
   "metadata": {
    "scrolled": false
   },
   "outputs": [
    {
     "name": "stdout",
     "output_type": "stream",
     "text": [
      "delta 0.08522208920140639\n",
      "diff 0.08522208920140639\n",
      "macro A 0.6136960356845843\n",
      "macro B 0.5710849910838811\n",
      "s 52\n",
      "n 10000\n",
      "Hier vs. +CRQ: Estimated p-value: 0.0052\n"
     ]
    }
   ],
   "source": [
    "p_value = bootstrap_significance_testing(hier_r_golds, hier_crq_preds, hier_r_preds, metric, n=int(1e4))\n",
    "print(\"Hier vs. +CRQ: Estimated p-value: \" + str(p_value))"
   ]
  },
  {
   "cell_type": "code",
   "execution_count": 51,
   "metadata": {
    "scrolled": false
   },
   "outputs": [
    {
     "name": "stdout",
     "output_type": "stream",
     "text": [
      "delta -0.003736382509983649\n",
      "diff -0.003736382509983649\n",
      "macro A 0.6136960356845843\n",
      "macro B 0.6155642269395761\n",
      "s 5426\n",
      "n 10000\n",
      "RC vs. +FRC: Estimated p-value: 0.5426\n"
     ]
    }
   ],
   "source": [
    "p_value = bootstrap_significance_testing(hier_r_golds, hier_crq_preds, hier_rc_preds, metric, n=int(1e4))\n",
    "print(\"RC vs. +CRQ: Estimated p-value: \" + str(p_value))"
   ]
  },
  {
   "cell_type": "code",
   "execution_count": 66,
   "metadata": {
    "scrolled": false
   },
   "outputs": [
    {
     "name": "stdout",
     "output_type": "stream",
     "text": [
      "delta 0.05760335344306422\n",
      "diff 0.05760335344306422\n",
      "macro A 0.5998866678054132\n",
      "macro B 0.5710849910838811\n",
      "s 238\n",
      "n 10000\n",
      "Hier vs. +CQR: Estimated p-value: 0.0238\n"
     ]
    }
   ],
   "source": [
    "p_value = bootstrap_significance_testing(hier_r_golds, hier_cqr_preds, hier_r_preds, metric, n=int(1e4))\n",
    "print(\"Hier vs. +CQR: Estimated p-value: \" + str(p_value))"
   ]
  },
  {
   "cell_type": "code",
   "execution_count": 67,
   "metadata": {
    "scrolled": true
   },
   "outputs": [
    {
     "name": "stdout",
     "output_type": "stream",
     "text": [
      "delta -0.03135511826832582\n",
      "diff -0.03135511826832582\n",
      "macro A 0.5998866678054132\n",
      "macro B 0.6155642269395761\n",
      "s 8892\n",
      "n 10000\n",
      "RC vs. +CQR: Estimated p-value: 0.8892\n"
     ]
    }
   ],
   "source": [
    "p_value = bootstrap_significance_testing(hier_r_golds, hier_cqr_preds, hier_rc_preds, metric, n=int(1e4))\n",
    "print(\"RC vs. +CQR: Estimated p-value: \" + str(p_value))"
   ]
  },
  {
   "cell_type": "code",
   "execution_count": 52,
   "metadata": {
    "scrolled": true
   },
   "outputs": [
    {
     "name": "stdout",
     "output_type": "stream",
     "text": [
      "delta 0.09206676138242442\n",
      "diff 0.09206676138242442\n",
      "macro A 0.6171183717750933\n",
      "macro B 0.5710849910838811\n",
      "s 21\n",
      "n 10000\n",
      "Hier vs. +RQC: Estimated p-value: 0.0021\n"
     ]
    }
   ],
   "source": [
    "p_value = bootstrap_significance_testing(hier_r_golds, hier_rqc_preds, hier_r_preds, metric, n=int(1e4))\n",
    "print(\"Hier vs. +RQC: Estimated p-value: \" + str(p_value))"
   ]
  },
  {
   "cell_type": "code",
   "execution_count": 53,
   "metadata": {
    "scrolled": true
   },
   "outputs": [
    {
     "name": "stdout",
     "output_type": "stream",
     "text": [
      "delta 0.003108289671034381\n",
      "diff 0.003108289671034381\n",
      "macro A 0.6171183717750933\n",
      "macro B 0.6155642269395761\n",
      "s 4550\n",
      "n 10000\n",
      "RC vs. +RQC: Estimated p-value: 0.455\n"
     ]
    }
   ],
   "source": [
    "p_value = bootstrap_significance_testing(hier_r_golds, hier_rqc_preds, hier_rc_preds, metric, n=int(1e4))\n",
    "print(\"RC vs. +RQC: Estimated p-value: \" + str(p_value))"
   ]
  },
  {
   "cell_type": "code",
   "execution_count": 68,
   "metadata": {
    "scrolled": true
   },
   "outputs": [
    {
     "name": "stdout",
     "output_type": "stream",
     "text": [
      "delta 0.06811597609524056\n",
      "diff 0.06811597609524056\n",
      "macro A 0.6051429791315014\n",
      "macro B 0.5710849910838811\n",
      "s 63\n",
      "n 10000\n",
      "Hier vs. +RCQ: Estimated p-value: 0.0063\n"
     ]
    }
   ],
   "source": [
    "p_value = bootstrap_significance_testing(hier_r_golds, hier_rcq_preds, hier_r_preds, metric, n=int(1e4))\n",
    "print(\"Hier vs. +RCQ: Estimated p-value: \" + str(p_value))"
   ]
  },
  {
   "cell_type": "code",
   "execution_count": 69,
   "metadata": {
    "scrolled": true
   },
   "outputs": [
    {
     "name": "stdout",
     "output_type": "stream",
     "text": [
      "delta -0.02084249561614948\n",
      "diff -0.02084249561614948\n",
      "macro A 0.6051429791315014\n",
      "macro B 0.6155642269395761\n",
      "s 7793\n",
      "n 10000\n",
      "RC vs. +RCQ: Estimated p-value: 0.7793\n"
     ]
    }
   ],
   "source": [
    "p_value = bootstrap_significance_testing(hier_r_golds, hier_rcq_preds, hier_rc_preds, metric, n=int(1e4))\n",
    "print(\"RC vs. +RCQ: Estimated p-value: \" + str(p_value))"
   ]
  },
  {
   "cell_type": "code",
   "execution_count": 70,
   "metadata": {
    "scrolled": true
   },
   "outputs": [
    {
     "name": "stdout",
     "output_type": "stream",
     "text": [
      "delta 0.06266392130885579\n",
      "diff 0.06266392130885579\n",
      "macro A 0.602416951738309\n",
      "macro B 0.5710849910838811\n",
      "s 208\n",
      "n 10000\n",
      "Hier vs. +QRC: Estimated p-value: 0.0208\n"
     ]
    }
   ],
   "source": [
    "p_value = bootstrap_significance_testing(hier_r_golds, hier_qrc_preds, hier_r_preds, metric, n=int(1e4))\n",
    "print(\"Hier vs. +QRC: Estimated p-value: \" + str(p_value))"
   ]
  },
  {
   "cell_type": "code",
   "execution_count": 71,
   "metadata": {
    "scrolled": true
   },
   "outputs": [
    {
     "name": "stdout",
     "output_type": "stream",
     "text": [
      "delta -0.026294550402534256\n",
      "diff -0.026294550402534256\n",
      "macro A 0.602416951738309\n",
      "macro B 0.6155642269395761\n",
      "s 8381\n",
      "n 10000\n",
      "RC vs. +QRC: Estimated p-value: 0.8381\n"
     ]
    }
   ],
   "source": [
    "p_value = bootstrap_significance_testing(hier_r_golds, hier_qrc_preds, hier_rc_preds, metric, n=int(1e4))\n",
    "print(\"RC vs. +QRC: Estimated p-value: \" + str(p_value))"
   ]
  },
  {
   "cell_type": "code",
   "execution_count": 72,
   "metadata": {
    "scrolled": false
   },
   "outputs": [
    {
     "name": "stdout",
     "output_type": "stream",
     "text": [
      "delta 0.07433689892193174\n",
      "diff 0.07433689892193174\n",
      "macro A 0.608253440544847\n",
      "macro B 0.5710849910838811\n",
      "s 77\n",
      "n 10000\n",
      "Hier vs. +QCR: Estimated p-value: 0.0077\n"
     ]
    }
   ],
   "source": [
    "p_value = bootstrap_significance_testing(hier_r_golds, hier_qcr_preds, hier_r_preds, metric, n=int(1e4))\n",
    "print(\"Hier vs. +QCR: Estimated p-value: \" + str(p_value))"
   ]
  },
  {
   "cell_type": "code",
   "execution_count": 73,
   "metadata": {
    "scrolled": false
   },
   "outputs": [
    {
     "name": "stdout",
     "output_type": "stream",
     "text": [
      "delta -0.014621572789458304\n",
      "diff -0.014621572789458304\n",
      "macro A 0.608253440544847\n",
      "macro B 0.6155642269395761\n",
      "s 7073\n",
      "n 10000\n",
      "RC vs. +QCR: Estimated p-value: 0.7073\n"
     ]
    }
   ],
   "source": [
    "p_value = bootstrap_significance_testing(hier_r_golds, hier_qcr_preds, hier_rc_preds, metric, n=int(1e4))\n",
    "print(\"RC vs. +QCR: Estimated p-value: \" + str(p_value))"
   ]
  },
  {
   "cell_type": "code",
   "execution_count": 54,
   "metadata": {},
   "outputs": [
    {
     "name": "stdout",
     "output_type": "stream",
     "text": [
      "delta 0.09593505096779587\n",
      "diff 0.09593505096779587\n",
      "macro A 0.619052516567779\n",
      "macro B 0.5710849910838811\n",
      "s 8\n",
      "n 10000\n",
      "Hier vs. +CRH: Estimated p-value: 0.0008\n"
     ]
    }
   ],
   "source": [
    "p_value = bootstrap_significance_testing(hier_r_golds, hier_crh_preds, hier_r_preds, metric, n=int(1e4))\n",
    "print(\"Hier vs. +CRH: Estimated p-value: \" + str(p_value))"
   ]
  },
  {
   "cell_type": "code",
   "execution_count": 55,
   "metadata": {
    "scrolled": true
   },
   "outputs": [
    {
     "name": "stdout",
     "output_type": "stream",
     "text": [
      "delta 0.006976579256405824\n",
      "diff 0.006976579256405824\n",
      "macro A 0.619052516567779\n",
      "macro B 0.6155642269395761\n",
      "s 3915\n",
      "n 10000\n",
      "RC vs. +CRH: Estimated p-value: 0.3915\n"
     ]
    }
   ],
   "source": [
    "p_value = bootstrap_significance_testing(hier_r_golds, hier_crh_preds, hier_rc_preds, metric, n=int(1e4))\n",
    "print(\"RC vs. +CRH: Estimated p-value: \" + str(p_value))"
   ]
  },
  {
   "cell_type": "code",
   "execution_count": 56,
   "metadata": {
    "scrolled": true
   },
   "outputs": [
    {
     "name": "stdout",
     "output_type": "stream",
     "text": [
      "delta 0.09297433382624232\n",
      "diff 0.09297433382624232\n",
      "macro A 0.6175721579970023\n",
      "macro B 0.5710849910838811\n",
      "s 8\n",
      "n 10000\n",
      "Hier vs. +RCH: Estimated p-value: 0.0008\n"
     ]
    }
   ],
   "source": [
    "p_value = bootstrap_significance_testing(hier_r_golds, hier_rch_preds, hier_r_preds, metric, n=int(1e4))\n",
    "print(\"Hier vs. +RCH: Estimated p-value: \" + str(p_value))"
   ]
  },
  {
   "cell_type": "code",
   "execution_count": 57,
   "metadata": {},
   "outputs": [
    {
     "name": "stdout",
     "output_type": "stream",
     "text": [
      "delta 0.0040158621148522755\n",
      "diff 0.0040158621148522755\n",
      "macro A 0.6175721579970023\n",
      "macro B 0.6155642269395761\n",
      "s 4362\n",
      "n 10000\n",
      "RC vs. +RCH: Estimated p-value: 0.4362\n"
     ]
    }
   ],
   "source": [
    "p_value = bootstrap_significance_testing(hier_r_golds, hier_rch_preds, hier_rc_preds, metric, n=int(1e4))\n",
    "print(\"RC vs. +RCH: Estimated p-value: \" + str(p_value))"
   ]
  },
  {
   "cell_type": "code",
   "execution_count": 59,
   "metadata": {},
   "outputs": [
    {
     "name": "stdout",
     "output_type": "stream",
     "text": [
      "delta 0.08853341867088305\n",
      "diff 0.08853341867088305\n",
      "macro A 0.6153517004193226\n",
      "macro B 0.5710849910838811\n",
      "s 25\n",
      "n 10000\n",
      "Hier vs. +RQHC: Estimated p-value: 0.0025\n"
     ]
    }
   ],
   "source": [
    "p_value = bootstrap_significance_testing(hier_r_golds, hier_rqhc_preds, hier_r_preds, metric, n=int(1e4))\n",
    "print(\"Hier vs. +RQHC: Estimated p-value: \" + str(p_value))"
   ]
  },
  {
   "cell_type": "code",
   "execution_count": 60,
   "metadata": {},
   "outputs": [
    {
     "name": "stdout",
     "output_type": "stream",
     "text": [
      "delta -0.0004250530405069952\n",
      "diff -0.0004250530405069952\n",
      "macro A 0.6153517004193226\n",
      "macro B 0.6155642269395761\n",
      "s 5116\n",
      "n 10000\n",
      "RC vs. +RQHC: Estimated p-value: 0.5116\n"
     ]
    }
   ],
   "source": [
    "p_value = bootstrap_significance_testing(hier_r_golds, hier_rqhc_preds, hier_rc_preds, metric, n=int(1e4))\n",
    "print(\"RC vs. +RQHC: Estimated p-value: \" + str(p_value))"
   ]
  },
  {
   "cell_type": "code",
   "execution_count": null,
   "metadata": {},
   "outputs": [],
   "source": []
  }
 ],
 "metadata": {
  "kernelspec": {
   "display_name": "Python 3",
   "language": "python",
   "name": "python3"
  },
  "language_info": {
   "codemirror_mode": {
    "name": "ipython",
    "version": 3
   },
   "file_extension": ".py",
   "mimetype": "text/x-python",
   "name": "python",
   "nbconvert_exporter": "python",
   "pygments_lexer": "ipython3",
   "version": "3.7.4"
  }
 },
 "nbformat": 4,
 "nbformat_minor": 4
}
